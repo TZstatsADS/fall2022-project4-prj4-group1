{
  "nbformat": 4,
  "nbformat_minor": 0,
  "metadata": {
    "colab": {
      "provenance": []
    },
    "kernelspec": {
      "name": "python3",
      "display_name": "Python 3"
    },
    "language_info": {
      "name": "python"
    }
  },
  "cells": [
    {
      "cell_type": "markdown",
      "source": [
        "This notebook trains a logistic regression model based on fairness constraints outlined in this paper:\n",
        "https://arxiv.org/pdf/1507.05259.pdf\n",
        "on COMPAS data, using race as the sensitive attribute"
      ],
      "metadata": {
        "id": "1hlIbR_xHHDl"
      }
    },
    {
      "cell_type": "code",
      "source": [
        "import numpy as np\n",
        "from numpy.core.fromnumeric import transpose\n",
        "import pandas as pd\n",
        "df = pd.read_csv('COMPAS_preprocessed.csv')\n",
        "df.head(5)"
      ],
      "metadata": {
        "id": "l5E9mwrLHqnZ",
        "colab": {
          "base_uri": "https://localhost:8080/",
          "height": 461
        },
        "outputId": "338eb278-d7aa-4389-c13d-21ba7e3b9415"
      },
      "execution_count": 1,
      "outputs": [
        {
          "output_type": "execute_result",
          "data": {
            "text/plain": [
              "   Unnamed: 0  age  c_charge_degree  race  score_text  sex  priors_count  \\\n",
              "0           1   34                0     1          -1    1             0   \n",
              "1           2   24                0     1          -1    1             4   \n",
              "2           6   41                0     0           0    1            14   \n",
              "3           8   39                1     0          -1    0             0   \n",
              "4          10   27                0     0          -1    1             0   \n",
              "\n",
              "   days_b_screening_arrest  decile_score  is_recid  two_year_recid  \\\n",
              "0                     -1.0             3         1               1   \n",
              "1                     -1.0             4         1               1   \n",
              "2                     -1.0             6         1               1   \n",
              "3                     -1.0             1         0               0   \n",
              "4                     -1.0             4         0               0   \n",
              "\n",
              "             c_jail_in           c_jail_out  days_in_jail  \n",
              "0  2013-01-26 03:45:27  2013-02-05 05:36:53            10  \n",
              "1  2013-04-13 04:58:34  2013-04-14 07:02:04             1  \n",
              "2  2014-02-18 05:08:24  2014-02-24 12:18:30             6  \n",
              "3  2014-03-15 05:35:34  2014-03-18 04:28:46             2  \n",
              "4  2013-11-25 06:31:06  2013-11-26 08:26:57             1  "
            ],
            "text/html": [
              "\n",
              "  <div id=\"df-c21053ec-2449-4bd7-a0a9-0091f4177cdb\">\n",
              "    <div class=\"colab-df-container\">\n",
              "      <div>\n",
              "<style scoped>\n",
              "    .dataframe tbody tr th:only-of-type {\n",
              "        vertical-align: middle;\n",
              "    }\n",
              "\n",
              "    .dataframe tbody tr th {\n",
              "        vertical-align: top;\n",
              "    }\n",
              "\n",
              "    .dataframe thead th {\n",
              "        text-align: right;\n",
              "    }\n",
              "</style>\n",
              "<table border=\"1\" class=\"dataframe\">\n",
              "  <thead>\n",
              "    <tr style=\"text-align: right;\">\n",
              "      <th></th>\n",
              "      <th>Unnamed: 0</th>\n",
              "      <th>age</th>\n",
              "      <th>c_charge_degree</th>\n",
              "      <th>race</th>\n",
              "      <th>score_text</th>\n",
              "      <th>sex</th>\n",
              "      <th>priors_count</th>\n",
              "      <th>days_b_screening_arrest</th>\n",
              "      <th>decile_score</th>\n",
              "      <th>is_recid</th>\n",
              "      <th>two_year_recid</th>\n",
              "      <th>c_jail_in</th>\n",
              "      <th>c_jail_out</th>\n",
              "      <th>days_in_jail</th>\n",
              "    </tr>\n",
              "  </thead>\n",
              "  <tbody>\n",
              "    <tr>\n",
              "      <th>0</th>\n",
              "      <td>1</td>\n",
              "      <td>34</td>\n",
              "      <td>0</td>\n",
              "      <td>1</td>\n",
              "      <td>-1</td>\n",
              "      <td>1</td>\n",
              "      <td>0</td>\n",
              "      <td>-1.0</td>\n",
              "      <td>3</td>\n",
              "      <td>1</td>\n",
              "      <td>1</td>\n",
              "      <td>2013-01-26 03:45:27</td>\n",
              "      <td>2013-02-05 05:36:53</td>\n",
              "      <td>10</td>\n",
              "    </tr>\n",
              "    <tr>\n",
              "      <th>1</th>\n",
              "      <td>2</td>\n",
              "      <td>24</td>\n",
              "      <td>0</td>\n",
              "      <td>1</td>\n",
              "      <td>-1</td>\n",
              "      <td>1</td>\n",
              "      <td>4</td>\n",
              "      <td>-1.0</td>\n",
              "      <td>4</td>\n",
              "      <td>1</td>\n",
              "      <td>1</td>\n",
              "      <td>2013-04-13 04:58:34</td>\n",
              "      <td>2013-04-14 07:02:04</td>\n",
              "      <td>1</td>\n",
              "    </tr>\n",
              "    <tr>\n",
              "      <th>2</th>\n",
              "      <td>6</td>\n",
              "      <td>41</td>\n",
              "      <td>0</td>\n",
              "      <td>0</td>\n",
              "      <td>0</td>\n",
              "      <td>1</td>\n",
              "      <td>14</td>\n",
              "      <td>-1.0</td>\n",
              "      <td>6</td>\n",
              "      <td>1</td>\n",
              "      <td>1</td>\n",
              "      <td>2014-02-18 05:08:24</td>\n",
              "      <td>2014-02-24 12:18:30</td>\n",
              "      <td>6</td>\n",
              "    </tr>\n",
              "    <tr>\n",
              "      <th>3</th>\n",
              "      <td>8</td>\n",
              "      <td>39</td>\n",
              "      <td>1</td>\n",
              "      <td>0</td>\n",
              "      <td>-1</td>\n",
              "      <td>0</td>\n",
              "      <td>0</td>\n",
              "      <td>-1.0</td>\n",
              "      <td>1</td>\n",
              "      <td>0</td>\n",
              "      <td>0</td>\n",
              "      <td>2014-03-15 05:35:34</td>\n",
              "      <td>2014-03-18 04:28:46</td>\n",
              "      <td>2</td>\n",
              "    </tr>\n",
              "    <tr>\n",
              "      <th>4</th>\n",
              "      <td>10</td>\n",
              "      <td>27</td>\n",
              "      <td>0</td>\n",
              "      <td>0</td>\n",
              "      <td>-1</td>\n",
              "      <td>1</td>\n",
              "      <td>0</td>\n",
              "      <td>-1.0</td>\n",
              "      <td>4</td>\n",
              "      <td>0</td>\n",
              "      <td>0</td>\n",
              "      <td>2013-11-25 06:31:06</td>\n",
              "      <td>2013-11-26 08:26:57</td>\n",
              "      <td>1</td>\n",
              "    </tr>\n",
              "  </tbody>\n",
              "</table>\n",
              "</div>\n",
              "      <button class=\"colab-df-convert\" onclick=\"convertToInteractive('df-c21053ec-2449-4bd7-a0a9-0091f4177cdb')\"\n",
              "              title=\"Convert this dataframe to an interactive table.\"\n",
              "              style=\"display:none;\">\n",
              "        \n",
              "  <svg xmlns=\"http://www.w3.org/2000/svg\" height=\"24px\"viewBox=\"0 0 24 24\"\n",
              "       width=\"24px\">\n",
              "    <path d=\"M0 0h24v24H0V0z\" fill=\"none\"/>\n",
              "    <path d=\"M18.56 5.44l.94 2.06.94-2.06 2.06-.94-2.06-.94-.94-2.06-.94 2.06-2.06.94zm-11 1L8.5 8.5l.94-2.06 2.06-.94-2.06-.94L8.5 2.5l-.94 2.06-2.06.94zm10 10l.94 2.06.94-2.06 2.06-.94-2.06-.94-.94-2.06-.94 2.06-2.06.94z\"/><path d=\"M17.41 7.96l-1.37-1.37c-.4-.4-.92-.59-1.43-.59-.52 0-1.04.2-1.43.59L10.3 9.45l-7.72 7.72c-.78.78-.78 2.05 0 2.83L4 21.41c.39.39.9.59 1.41.59.51 0 1.02-.2 1.41-.59l7.78-7.78 2.81-2.81c.8-.78.8-2.07 0-2.86zM5.41 20L4 18.59l7.72-7.72 1.47 1.35L5.41 20z\"/>\n",
              "  </svg>\n",
              "      </button>\n",
              "      \n",
              "  <style>\n",
              "    .colab-df-container {\n",
              "      display:flex;\n",
              "      flex-wrap:wrap;\n",
              "      gap: 12px;\n",
              "    }\n",
              "\n",
              "    .colab-df-convert {\n",
              "      background-color: #E8F0FE;\n",
              "      border: none;\n",
              "      border-radius: 50%;\n",
              "      cursor: pointer;\n",
              "      display: none;\n",
              "      fill: #1967D2;\n",
              "      height: 32px;\n",
              "      padding: 0 0 0 0;\n",
              "      width: 32px;\n",
              "    }\n",
              "\n",
              "    .colab-df-convert:hover {\n",
              "      background-color: #E2EBFA;\n",
              "      box-shadow: 0px 1px 2px rgba(60, 64, 67, 0.3), 0px 1px 3px 1px rgba(60, 64, 67, 0.15);\n",
              "      fill: #174EA6;\n",
              "    }\n",
              "\n",
              "    [theme=dark] .colab-df-convert {\n",
              "      background-color: #3B4455;\n",
              "      fill: #D2E3FC;\n",
              "    }\n",
              "\n",
              "    [theme=dark] .colab-df-convert:hover {\n",
              "      background-color: #434B5C;\n",
              "      box-shadow: 0px 1px 3px 1px rgba(0, 0, 0, 0.15);\n",
              "      filter: drop-shadow(0px 1px 2px rgba(0, 0, 0, 0.3));\n",
              "      fill: #FFFFFF;\n",
              "    }\n",
              "  </style>\n",
              "\n",
              "      <script>\n",
              "        const buttonEl =\n",
              "          document.querySelector('#df-c21053ec-2449-4bd7-a0a9-0091f4177cdb button.colab-df-convert');\n",
              "        buttonEl.style.display =\n",
              "          google.colab.kernel.accessAllowed ? 'block' : 'none';\n",
              "\n",
              "        async function convertToInteractive(key) {\n",
              "          const element = document.querySelector('#df-c21053ec-2449-4bd7-a0a9-0091f4177cdb');\n",
              "          const dataTable =\n",
              "            await google.colab.kernel.invokeFunction('convertToInteractive',\n",
              "                                                     [key], {});\n",
              "          if (!dataTable) return;\n",
              "\n",
              "          const docLinkHtml = 'Like what you see? Visit the ' +\n",
              "            '<a target=\"_blank\" href=https://colab.research.google.com/notebooks/data_table.ipynb>data table notebook</a>'\n",
              "            + ' to learn more about interactive tables.';\n",
              "          element.innerHTML = '';\n",
              "          dataTable['output_type'] = 'display_data';\n",
              "          await google.colab.output.renderOutput(dataTable, element);\n",
              "          const docLink = document.createElement('div');\n",
              "          docLink.innerHTML = docLinkHtml;\n",
              "          element.appendChild(docLink);\n",
              "        }\n",
              "      </script>\n",
              "    </div>\n",
              "  </div>\n",
              "  "
            ]
          },
          "metadata": {},
          "execution_count": 1
        }
      ]
    },
    {
      "cell_type": "markdown",
      "source": [
        "We've imported our dataset, and we only select the columns we need, as well as our target variable: two_year_recid\n",
        "Feature seelction is based on this notebook:\n",
        "https://github.com/propublica/compas-analysis/blob/master/Compas%20Analysis.ipynb"
      ],
      "metadata": {
        "id": "-k8Yt4VgHZHf"
      }
    },
    {
      "cell_type": "code",
      "source": [
        "cols =  ['age', 'c_charge_degree', 'race', 'score_text', 'sex',\n",
        "       'priors_count', 'days_b_screening_arrest', 'decile_score', 'is_recid',\n",
        "       'two_year_recid', 'days_in_jail']\n",
        "df = df[cols]\n",
        "df.head(5)"
      ],
      "metadata": {
        "colab": {
          "base_uri": "https://localhost:8080/",
          "height": 270
        },
        "id": "3eo4p9oL7S0t",
        "outputId": "aa0cdb8b-a2aa-4286-aabf-b7d9c835ad02"
      },
      "execution_count": 2,
      "outputs": [
        {
          "output_type": "execute_result",
          "data": {
            "text/plain": [
              "   age  c_charge_degree  race  score_text  sex  priors_count  \\\n",
              "0   34                0     1          -1    1             0   \n",
              "1   24                0     1          -1    1             4   \n",
              "2   41                0     0           0    1            14   \n",
              "3   39                1     0          -1    0             0   \n",
              "4   27                0     0          -1    1             0   \n",
              "\n",
              "   days_b_screening_arrest  decile_score  is_recid  two_year_recid  \\\n",
              "0                     -1.0             3         1               1   \n",
              "1                     -1.0             4         1               1   \n",
              "2                     -1.0             6         1               1   \n",
              "3                     -1.0             1         0               0   \n",
              "4                     -1.0             4         0               0   \n",
              "\n",
              "   days_in_jail  \n",
              "0            10  \n",
              "1             1  \n",
              "2             6  \n",
              "3             2  \n",
              "4             1  "
            ],
            "text/html": [
              "\n",
              "  <div id=\"df-0770e716-adee-4a3c-ba83-ccba6c9e784e\">\n",
              "    <div class=\"colab-df-container\">\n",
              "      <div>\n",
              "<style scoped>\n",
              "    .dataframe tbody tr th:only-of-type {\n",
              "        vertical-align: middle;\n",
              "    }\n",
              "\n",
              "    .dataframe tbody tr th {\n",
              "        vertical-align: top;\n",
              "    }\n",
              "\n",
              "    .dataframe thead th {\n",
              "        text-align: right;\n",
              "    }\n",
              "</style>\n",
              "<table border=\"1\" class=\"dataframe\">\n",
              "  <thead>\n",
              "    <tr style=\"text-align: right;\">\n",
              "      <th></th>\n",
              "      <th>age</th>\n",
              "      <th>c_charge_degree</th>\n",
              "      <th>race</th>\n",
              "      <th>score_text</th>\n",
              "      <th>sex</th>\n",
              "      <th>priors_count</th>\n",
              "      <th>days_b_screening_arrest</th>\n",
              "      <th>decile_score</th>\n",
              "      <th>is_recid</th>\n",
              "      <th>two_year_recid</th>\n",
              "      <th>days_in_jail</th>\n",
              "    </tr>\n",
              "  </thead>\n",
              "  <tbody>\n",
              "    <tr>\n",
              "      <th>0</th>\n",
              "      <td>34</td>\n",
              "      <td>0</td>\n",
              "      <td>1</td>\n",
              "      <td>-1</td>\n",
              "      <td>1</td>\n",
              "      <td>0</td>\n",
              "      <td>-1.0</td>\n",
              "      <td>3</td>\n",
              "      <td>1</td>\n",
              "      <td>1</td>\n",
              "      <td>10</td>\n",
              "    </tr>\n",
              "    <tr>\n",
              "      <th>1</th>\n",
              "      <td>24</td>\n",
              "      <td>0</td>\n",
              "      <td>1</td>\n",
              "      <td>-1</td>\n",
              "      <td>1</td>\n",
              "      <td>4</td>\n",
              "      <td>-1.0</td>\n",
              "      <td>4</td>\n",
              "      <td>1</td>\n",
              "      <td>1</td>\n",
              "      <td>1</td>\n",
              "    </tr>\n",
              "    <tr>\n",
              "      <th>2</th>\n",
              "      <td>41</td>\n",
              "      <td>0</td>\n",
              "      <td>0</td>\n",
              "      <td>0</td>\n",
              "      <td>1</td>\n",
              "      <td>14</td>\n",
              "      <td>-1.0</td>\n",
              "      <td>6</td>\n",
              "      <td>1</td>\n",
              "      <td>1</td>\n",
              "      <td>6</td>\n",
              "    </tr>\n",
              "    <tr>\n",
              "      <th>3</th>\n",
              "      <td>39</td>\n",
              "      <td>1</td>\n",
              "      <td>0</td>\n",
              "      <td>-1</td>\n",
              "      <td>0</td>\n",
              "      <td>0</td>\n",
              "      <td>-1.0</td>\n",
              "      <td>1</td>\n",
              "      <td>0</td>\n",
              "      <td>0</td>\n",
              "      <td>2</td>\n",
              "    </tr>\n",
              "    <tr>\n",
              "      <th>4</th>\n",
              "      <td>27</td>\n",
              "      <td>0</td>\n",
              "      <td>0</td>\n",
              "      <td>-1</td>\n",
              "      <td>1</td>\n",
              "      <td>0</td>\n",
              "      <td>-1.0</td>\n",
              "      <td>4</td>\n",
              "      <td>0</td>\n",
              "      <td>0</td>\n",
              "      <td>1</td>\n",
              "    </tr>\n",
              "  </tbody>\n",
              "</table>\n",
              "</div>\n",
              "      <button class=\"colab-df-convert\" onclick=\"convertToInteractive('df-0770e716-adee-4a3c-ba83-ccba6c9e784e')\"\n",
              "              title=\"Convert this dataframe to an interactive table.\"\n",
              "              style=\"display:none;\">\n",
              "        \n",
              "  <svg xmlns=\"http://www.w3.org/2000/svg\" height=\"24px\"viewBox=\"0 0 24 24\"\n",
              "       width=\"24px\">\n",
              "    <path d=\"M0 0h24v24H0V0z\" fill=\"none\"/>\n",
              "    <path d=\"M18.56 5.44l.94 2.06.94-2.06 2.06-.94-2.06-.94-.94-2.06-.94 2.06-2.06.94zm-11 1L8.5 8.5l.94-2.06 2.06-.94-2.06-.94L8.5 2.5l-.94 2.06-2.06.94zm10 10l.94 2.06.94-2.06 2.06-.94-2.06-.94-.94-2.06-.94 2.06-2.06.94z\"/><path d=\"M17.41 7.96l-1.37-1.37c-.4-.4-.92-.59-1.43-.59-.52 0-1.04.2-1.43.59L10.3 9.45l-7.72 7.72c-.78.78-.78 2.05 0 2.83L4 21.41c.39.39.9.59 1.41.59.51 0 1.02-.2 1.41-.59l7.78-7.78 2.81-2.81c.8-.78.8-2.07 0-2.86zM5.41 20L4 18.59l7.72-7.72 1.47 1.35L5.41 20z\"/>\n",
              "  </svg>\n",
              "      </button>\n",
              "      \n",
              "  <style>\n",
              "    .colab-df-container {\n",
              "      display:flex;\n",
              "      flex-wrap:wrap;\n",
              "      gap: 12px;\n",
              "    }\n",
              "\n",
              "    .colab-df-convert {\n",
              "      background-color: #E8F0FE;\n",
              "      border: none;\n",
              "      border-radius: 50%;\n",
              "      cursor: pointer;\n",
              "      display: none;\n",
              "      fill: #1967D2;\n",
              "      height: 32px;\n",
              "      padding: 0 0 0 0;\n",
              "      width: 32px;\n",
              "    }\n",
              "\n",
              "    .colab-df-convert:hover {\n",
              "      background-color: #E2EBFA;\n",
              "      box-shadow: 0px 1px 2px rgba(60, 64, 67, 0.3), 0px 1px 3px 1px rgba(60, 64, 67, 0.15);\n",
              "      fill: #174EA6;\n",
              "    }\n",
              "\n",
              "    [theme=dark] .colab-df-convert {\n",
              "      background-color: #3B4455;\n",
              "      fill: #D2E3FC;\n",
              "    }\n",
              "\n",
              "    [theme=dark] .colab-df-convert:hover {\n",
              "      background-color: #434B5C;\n",
              "      box-shadow: 0px 1px 3px 1px rgba(0, 0, 0, 0.15);\n",
              "      filter: drop-shadow(0px 1px 2px rgba(0, 0, 0, 0.3));\n",
              "      fill: #FFFFFF;\n",
              "    }\n",
              "  </style>\n",
              "\n",
              "      <script>\n",
              "        const buttonEl =\n",
              "          document.querySelector('#df-0770e716-adee-4a3c-ba83-ccba6c9e784e button.colab-df-convert');\n",
              "        buttonEl.style.display =\n",
              "          google.colab.kernel.accessAllowed ? 'block' : 'none';\n",
              "\n",
              "        async function convertToInteractive(key) {\n",
              "          const element = document.querySelector('#df-0770e716-adee-4a3c-ba83-ccba6c9e784e');\n",
              "          const dataTable =\n",
              "            await google.colab.kernel.invokeFunction('convertToInteractive',\n",
              "                                                     [key], {});\n",
              "          if (!dataTable) return;\n",
              "\n",
              "          const docLinkHtml = 'Like what you see? Visit the ' +\n",
              "            '<a target=\"_blank\" href=https://colab.research.google.com/notebooks/data_table.ipynb>data table notebook</a>'\n",
              "            + ' to learn more about interactive tables.';\n",
              "          element.innerHTML = '';\n",
              "          dataTable['output_type'] = 'display_data';\n",
              "          await google.colab.output.renderOutput(dataTable, element);\n",
              "          const docLink = document.createElement('div');\n",
              "          docLink.innerHTML = docLinkHtml;\n",
              "          element.appendChild(docLink);\n",
              "        }\n",
              "      </script>\n",
              "    </div>\n",
              "  </div>\n",
              "  "
            ]
          },
          "metadata": {},
          "execution_count": 2
        }
      ]
    },
    {
      "cell_type": "code",
      "source": [
        "from sklearn.model_selection import train_test_split\n",
        "from sklearn import preprocessing\n",
        "#only select features, minus target and sensitive attribute\n",
        "col_X = ['age', 'c_charge_degree', 'score_text', 'sex',\n",
        "       'priors_count', 'days_b_screening_arrest', 'decile_score', 'is_recid', \n",
        "        'days_in_jail']\n",
        "X = df[col_X]\n",
        "Z = df['race']\n",
        "y = df['two_year_recid']\n",
        "X_train, X_test, Z_train, Z_test, y_train, y_test = train_test_split( X, Z, y, test_size=0.33, random_state=42)"
      ],
      "metadata": {
        "id": "zXcI6J7-7bez"
      },
      "execution_count": 3,
      "outputs": []
    },
    {
      "cell_type": "markdown",
      "source": [
        "here we normalize our data, as well as set other parameters"
      ],
      "metadata": {
        "id": "3D0f59x5H-LP"
      }
    },
    {
      "cell_type": "code",
      "source": [
        "k = X_train.shape[1]\n",
        "N =  X_train.shape[0]\n",
        "theta = np.array(np.random.uniform(size=k))"
      ],
      "metadata": {
        "id": "Gl8QtgH38XDF"
      },
      "execution_count": null,
      "outputs": []
    },
    {
      "cell_type": "code",
      "source": [
        "from sklearn import preprocessing\n",
        "scaler = preprocessing.StandardScaler().fit(X_train)\n",
        "scaler.transform(X_train)"
      ],
      "metadata": {
        "colab": {
          "base_uri": "https://localhost:8080/"
        },
        "id": "QT5R-ZY1_60E",
        "outputId": "c720c0d8-3c25-4873-c431-96eef24b01de"
      },
      "execution_count": null,
      "outputs": [
        {
          "output_type": "execute_result",
          "data": {
            "text/plain": [
              "array([[ 1.10233552,  1.38213171, -0.87509104, ..., -1.28278951,\n",
              "        -1.02057358, -0.29957006],\n",
              "       [ 0.3235945 , -0.72352005,  1.63246318, ...,  1.86062263,\n",
              "         0.97984116, -0.2366014 ],\n",
              "       [-0.28209296, -0.72352005,  1.63246318, ...,  1.1620866 ,\n",
              "         0.97984116, -0.29957006],\n",
              "       ...,\n",
              "       [-0.62820008, -0.72352005,  0.37868607, ...,  0.46355057,\n",
              "         0.97984116, -0.27858051],\n",
              "       [ 0.84275518, -0.72352005,  0.37868607, ...,  0.11428255,\n",
              "         0.97984116, -0.29957006],\n",
              "       [-0.02251262, -0.72352005,  0.37868607, ...,  0.46355057,\n",
              "         0.97984116, -0.32055961]])"
            ]
          },
          "metadata": {},
          "execution_count": 42
        }
      ]
    },
    {
      "cell_type": "markdown",
      "source": [
        "We use scikit learn's framework for optimization:\n",
        "https://docs.scipy.org/doc/scipy/reference/generated/scipy.optimize.minimize.html\n",
        "https://docs.scipy.org/doc/scipy/reference/generated/scipy.optimize.minimize.html#scipy.optimize.minimize\n",
        "https://scipy-lectures.org/advanced/mathematical_optimization/auto_examples/plot_non_bounds_constraints.html\n",
        "\n",
        "Each of the constraints required for the framework to work needs to be programmed s.t. >= 0 for it to be true."
      ],
      "metadata": {
        "id": "9LpXDLLUIGTL"
      }
    },
    {
      "cell_type": "code",
      "execution_count": null,
      "metadata": {
        "colab": {
          "base_uri": "https://localhost:8080/"
        },
        "id": "H5sSA1EvFQQT",
        "outputId": "dc90bd03-1ee2-4170-f6f7-a0da6ab91488"
      },
      "outputs": [
        {
          "output_type": "stream",
          "name": "stderr",
          "text": [
            "/usr/local/lib/python3.7/dist-packages/ipykernel_launcher.py:26: RuntimeWarning: overflow encountered in exp\n",
            "/usr/local/lib/python3.7/dist-packages/ipykernel_launcher.py:27: RuntimeWarning: divide by zero encountered in log\n"
          ]
        }
      ],
      "source": [
        "import scipy\n",
        "from scipy.optimize import minimize\n",
        "from numpy import linalg as LA\n",
        "\n",
        "#equations 6 from the paper\n",
        "def upper_theta_constraint(theta, X, Z, c):\n",
        "  return ((-1/10) * np.matmul(np.matmul(transpose(Z - Z.mean()), X), theta)) + c\n",
        "\n",
        "def lower_theta_constraint(theta, X, Z, c):\n",
        "  return ((1/10) * (np.matmul(np.matmul(transpose(Z - Z.mean()), X), theta))) + c  \n",
        "\n",
        "def logreg_loss(theta,X):\n",
        "  odds = 1/(1 + np.exp(np.matmul(X, theta)))\n",
        "  return (-1) * sum(np.log(odds))\n",
        "\n",
        "res = scipy.optimize.minimize(logreg_loss, args=(scaler.transform(X_train)), x0=theta,\n",
        "                        method='SLSQP', \n",
        "                        constraints=({'type': 'ineq', 'fun': upper_theta_constraint, 'args': (scaler.transform(X_train), Z_train , 0.8)},\n",
        "                                     {'type': 'ineq', 'fun': lower_theta_constraint, 'args': (scaler.transform(X_train), Z_train , 0.8)}),\n",
        "            options={\"maxiter\": 100000})"
      ]
    },
    {
      "cell_type": "markdown",
      "source": [
        "Now we have our parameters, we'll start to evaluate the four evaluation metrics after normalizing our test data"
      ],
      "metadata": {
        "id": "4XqFZBwKIrJo"
      }
    },
    {
      "cell_type": "code",
      "source": [
        "theta = res.x\n",
        "\"\"\"\n",
        "theta = [-1.54444915e-06, -1.01807221e-06,  1.96578786e-05, -3.34814076e-06,\n",
        "        2.13276951e-06, -5.72891800e-07, -1.79066259e-05, -1.49020887e-06,\n",
        "       -3.01595836e-06]\n",
        "\"\"\""
      ],
      "metadata": {
        "id": "8CM5xMiV_Q60"
      },
      "execution_count": 5,
      "outputs": []
    },
    {
      "cell_type": "code",
      "source": [
        "scaler = preprocessing.StandardScaler().fit(X_test)\n",
        "X_scaled_test = scaler.transform(X_test)"
      ],
      "metadata": {
        "id": "liXOXdkFAmkr"
      },
      "execution_count": 7,
      "outputs": []
    },
    {
      "cell_type": "code",
      "source": [
        "\"\"\"calculate parity P(Y_hat = 1 | S = 0) = P(Y_hat = 1 | S = 1)\"\"\"\n",
        "\n",
        "#1) segment test dataset into sensitive and non sensitive\n",
        "X_pos = scaler.transform(X_test.loc[(Z==1)])\n",
        "X_neg = scaler.transform(X_test.loc[(Z==0)])\n",
        "y_pos = y_test.loc[(Z==1)]\n",
        "y_neg = y_test.loc[(Z==0)]\n",
        "\n",
        "\n",
        "#2) calculate Y_hat for neg & pos\n",
        "odds_pos = 1/(1+np.exp(np.matmul(X_pos, theta)))\n",
        "odds_neg = 1/(1+np.exp(np.matmul(X_neg, theta)))\n",
        "#3) find y_hat = 1 for both neg and positive\n",
        "len(odds_pos[odds_pos > 0.5])/len(odds_pos), len(odds_neg[odds_neg > 0.5])/len(odds_neg)"
      ],
      "metadata": {
        "colab": {
          "base_uri": "https://localhost:8080/"
        },
        "id": "gPUvK8BfPCV2",
        "outputId": "f4bfeb15-3bfa-4668-90c0-b8c354a56624"
      },
      "execution_count": 8,
      "outputs": [
        {
          "output_type": "execute_result",
          "data": {
            "text/plain": [
              "(0.4830827067669173, 0.45132743362831856)"
            ]
          },
          "metadata": {},
          "execution_count": 8
        }
      ]
    },
    {
      "cell_type": "markdown",
      "source": [
        "#parity (eval #1)\n",
        "P(Yhat = 1 | sensitive attribute = 1) = 48.3%\n",
        "P(Yhat = 1 | sensitive attribute = 0) = 45.1%\n",
        "The algorithm does a close job of predicting chances of recid after two years for both groups"
      ],
      "metadata": {
        "id": "i-fDMZq_I5Iw"
      }
    },
    {
      "cell_type": "code",
      "source": [
        "\"\"\"evaluation metric 2: equality of odds\"\"\"\n",
        "\n",
        "#protected: y = 1, then y =0 \n",
        "print(len(odds_pos[(y_pos > 0.5) & (odds_pos > 0.5)]) / len(odds_pos), len(odds_pos[(y_pos <= 0.5) & (odds_pos > 0.5)]) / len(odds_pos)) #0.5122180451127819 0.3746312684365782\n",
        "#nonprotected: y = 1, then y =0 \n",
        "print(len(odds_neg[(y_neg > 0.5) & (odds_neg > 0.5)]) / len(odds_neg), len(odds_neg[(y_neg <= 0.5) & (odds_neg > 0.5)]) / len(odds_neg))"
      ],
      "metadata": {
        "colab": {
          "base_uri": "https://localhost:8080/"
        },
        "id": "nhyKPC1A_iqn",
        "outputId": "809afc92-d7cc-40f8-aec8-1dbcda70b2cd"
      },
      "execution_count": null,
      "outputs": [
        {
          "output_type": "stream",
          "name": "stdout",
          "text": [
            "0.2819548872180451 0.20112781954887218\n",
            "0.22566371681415928 0.22566371681415928\n"
          ]
        }
      ]
    },
    {
      "cell_type": "markdown",
      "source": [
        "#equality of odds (eval #2)\n",
        "For when true value of y = 0\n",
        "the model predicts the sensitive group accurately 20.1% of the time, and 22.5% accurately for the non-protected group\n",
        "\n",
        "For when y = 1\n",
        "the model predicts the sensitive group accurately 28.2% of the time, and 22.6% accurately for the non-protected group\n",
        "\n",
        "The model is still more likely to predict the protect group as y = 1, but this disparity is not seen with the non-protected group"
      ],
      "metadata": {
        "id": "OWbBUfjFJPjq"
      }
    },
    {
      "cell_type": "code",
      "source": [
        "\"\"\"evaluation metric 3: calibration\"\"\"\n",
        "\n",
        "\n",
        "calibration_pos = len(odds_pos[((odds_pos > 0.5) & (y_pos > 0.5)) |\n",
        "    ((odds_pos <= 0.5) & (y_pos <= 0.5))])/len(odds_pos)\n",
        "calibration_neg = len(odds_neg[((odds_neg > 0.5) & (y_neg > 0.5)) |\n",
        "    ((odds_neg <= 0.5) & (y_neg <= 0.5))])/len(odds_neg)\n",
        "calibration_pos, calibration_neg   "
      ],
      "metadata": {
        "colab": {
          "base_uri": "https://localhost:8080/"
        },
        "id": "Ba8_Y6kiEmLi",
        "outputId": "ee738059-2986-4299-911f-134fd6966b39"
      },
      "execution_count": null,
      "outputs": [
        {
          "output_type": "execute_result",
          "data": {
            "text/plain": [
              "(0.568609022556391, 0.6253687315634219)"
            ]
          },
          "metadata": {},
          "execution_count": 68
        }
      ]
    },
    {
      "cell_type": "markdown",
      "source": [
        "#eval 3: calibration\n",
        "The protected group is 56.8% calibrated, and the non protected group is 62.5% calibrated -- meaning the model is less likely to predict the protected group correctly but by a somewhat small margin"
      ],
      "metadata": {
        "id": "LhEU0Cs5O1lK"
      }
    },
    {
      "cell_type": "markdown",
      "source": [
        "# eval 4: accuracy\n",
        "We see below that the model is 59.1% accurate"
      ],
      "metadata": {
        "id": "m1vWzQOIo4OW"
      }
    },
    {
      "cell_type": "code",
      "source": [
        "total_odds = 1/(1+np.exp(np.matmul(scaler.transform(X_test), theta)))\n",
        "total_odds[total_odds > 0.5] = 1\n",
        "total_odds[total_odds <= 0.5] = 0\n",
        "len(total_odds[total_odds == y_test])/len(y_test)"
      ],
      "metadata": {
        "colab": {
          "base_uri": "https://localhost:8080/"
        },
        "id": "a2DXQTMuo6qv",
        "outputId": "5f873d34-e900-45ad-bc6e-5c8ddfe51045"
      },
      "execution_count": 13,
      "outputs": [
        {
          "output_type": "execute_result",
          "data": {
            "text/plain": [
              "0.5907003444316877"
            ]
          },
          "metadata": {},
          "execution_count": 13
        }
      ]
    }
  ]
}