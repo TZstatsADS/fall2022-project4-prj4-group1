{
 "cells": [
  {
   "cell_type": "markdown",
   "metadata": {
    "id": "YJ5CrHD-LOXB"
   },
   "source": [
    "\n",
    "This notebook trains a logistic regression model based on fairness constraints outlined in this paper: https://arxiv.org/pdf/1507.05259.pdf on COMPAS data, using race as the sensitive attribute"
   ]
  },
  {
   "cell_type": "code",
   "execution_count": 8,
   "metadata": {
    "id": "eTSRBbXMTGjB"
   },
   "outputs": [],
   "source": [
    "import numpy as np\n",
    "from numpy.core.fromnumeric import transpose\n",
    "import pandas as pd"
   ]
  },
  {
   "cell_type": "code",
   "execution_count": 9,
   "metadata": {
    "colab": {
     "base_uri": "https://localhost:8080/",
     "height": 461
    },
    "id": "4jHuk7XcTtY3",
    "outputId": "2410d4ca-4781-44cc-8732-01d46fdb8300"
   },
   "outputs": [
    {
     "data": {
      "text/html": [
       "<div>\n",
       "<style scoped>\n",
       "    .dataframe tbody tr th:only-of-type {\n",
       "        vertical-align: middle;\n",
       "    }\n",
       "\n",
       "    .dataframe tbody tr th {\n",
       "        vertical-align: top;\n",
       "    }\n",
       "\n",
       "    .dataframe thead th {\n",
       "        text-align: right;\n",
       "    }\n",
       "</style>\n",
       "<table border=\"1\" class=\"dataframe\">\n",
       "  <thead>\n",
       "    <tr style=\"text-align: right;\">\n",
       "      <th></th>\n",
       "      <th>Unnamed: 0</th>\n",
       "      <th>age</th>\n",
       "      <th>c_charge_degree</th>\n",
       "      <th>race</th>\n",
       "      <th>score_text</th>\n",
       "      <th>sex</th>\n",
       "      <th>priors_count</th>\n",
       "      <th>days_b_screening_arrest</th>\n",
       "      <th>decile_score</th>\n",
       "      <th>is_recid</th>\n",
       "      <th>two_year_recid</th>\n",
       "      <th>c_jail_in</th>\n",
       "      <th>c_jail_out</th>\n",
       "      <th>days_in_jail</th>\n",
       "    </tr>\n",
       "  </thead>\n",
       "  <tbody>\n",
       "    <tr>\n",
       "      <th>0</th>\n",
       "      <td>1</td>\n",
       "      <td>34</td>\n",
       "      <td>0</td>\n",
       "      <td>1</td>\n",
       "      <td>-1</td>\n",
       "      <td>1</td>\n",
       "      <td>0</td>\n",
       "      <td>-1.0</td>\n",
       "      <td>3</td>\n",
       "      <td>1</td>\n",
       "      <td>1</td>\n",
       "      <td>2013-01-26 03:45:27</td>\n",
       "      <td>2013-02-05 05:36:53</td>\n",
       "      <td>10</td>\n",
       "    </tr>\n",
       "    <tr>\n",
       "      <th>1</th>\n",
       "      <td>2</td>\n",
       "      <td>24</td>\n",
       "      <td>0</td>\n",
       "      <td>1</td>\n",
       "      <td>-1</td>\n",
       "      <td>1</td>\n",
       "      <td>4</td>\n",
       "      <td>-1.0</td>\n",
       "      <td>4</td>\n",
       "      <td>1</td>\n",
       "      <td>1</td>\n",
       "      <td>2013-04-13 04:58:34</td>\n",
       "      <td>2013-04-14 07:02:04</td>\n",
       "      <td>1</td>\n",
       "    </tr>\n",
       "    <tr>\n",
       "      <th>2</th>\n",
       "      <td>6</td>\n",
       "      <td>41</td>\n",
       "      <td>0</td>\n",
       "      <td>0</td>\n",
       "      <td>0</td>\n",
       "      <td>1</td>\n",
       "      <td>14</td>\n",
       "      <td>-1.0</td>\n",
       "      <td>6</td>\n",
       "      <td>1</td>\n",
       "      <td>1</td>\n",
       "      <td>2014-02-18 05:08:24</td>\n",
       "      <td>2014-02-24 12:18:30</td>\n",
       "      <td>6</td>\n",
       "    </tr>\n",
       "    <tr>\n",
       "      <th>3</th>\n",
       "      <td>8</td>\n",
       "      <td>39</td>\n",
       "      <td>1</td>\n",
       "      <td>0</td>\n",
       "      <td>-1</td>\n",
       "      <td>0</td>\n",
       "      <td>0</td>\n",
       "      <td>-1.0</td>\n",
       "      <td>1</td>\n",
       "      <td>0</td>\n",
       "      <td>0</td>\n",
       "      <td>2014-03-15 05:35:34</td>\n",
       "      <td>2014-03-18 04:28:46</td>\n",
       "      <td>2</td>\n",
       "    </tr>\n",
       "    <tr>\n",
       "      <th>4</th>\n",
       "      <td>10</td>\n",
       "      <td>27</td>\n",
       "      <td>0</td>\n",
       "      <td>0</td>\n",
       "      <td>-1</td>\n",
       "      <td>1</td>\n",
       "      <td>0</td>\n",
       "      <td>-1.0</td>\n",
       "      <td>4</td>\n",
       "      <td>0</td>\n",
       "      <td>0</td>\n",
       "      <td>2013-11-25 06:31:06</td>\n",
       "      <td>2013-11-26 08:26:57</td>\n",
       "      <td>1</td>\n",
       "    </tr>\n",
       "  </tbody>\n",
       "</table>\n",
       "</div>"
      ],
      "text/plain": [
       "   Unnamed: 0  age  c_charge_degree  race  score_text  sex  priors_count  \\\n",
       "0           1   34                0     1          -1    1             0   \n",
       "1           2   24                0     1          -1    1             4   \n",
       "2           6   41                0     0           0    1            14   \n",
       "3           8   39                1     0          -1    0             0   \n",
       "4          10   27                0     0          -1    1             0   \n",
       "\n",
       "   days_b_screening_arrest  decile_score  is_recid  two_year_recid  \\\n",
       "0                     -1.0             3         1               1   \n",
       "1                     -1.0             4         1               1   \n",
       "2                     -1.0             6         1               1   \n",
       "3                     -1.0             1         0               0   \n",
       "4                     -1.0             4         0               0   \n",
       "\n",
       "             c_jail_in           c_jail_out  days_in_jail  \n",
       "0  2013-01-26 03:45:27  2013-02-05 05:36:53            10  \n",
       "1  2013-04-13 04:58:34  2013-04-14 07:02:04             1  \n",
       "2  2014-02-18 05:08:24  2014-02-24 12:18:30             6  \n",
       "3  2014-03-15 05:35:34  2014-03-18 04:28:46             2  \n",
       "4  2013-11-25 06:31:06  2013-11-26 08:26:57             1  "
      ]
     },
     "execution_count": 9,
     "metadata": {},
     "output_type": "execute_result"
    }
   ],
   "source": [
    "df = pd.read_csv('COMPAS_preprocessed.csv')\n",
    "df.head(5)"
   ]
  },
  {
   "cell_type": "code",
   "execution_count": 10,
   "metadata": {
    "colab": {
     "base_uri": "https://localhost:8080/",
     "height": 270
    },
    "id": "9Z06N5yAT2cR",
    "outputId": "c2861fe8-61e5-4d4a-a3b5-86e8dd4611ee"
   },
   "outputs": [
    {
     "data": {
      "text/html": [
       "<div>\n",
       "<style scoped>\n",
       "    .dataframe tbody tr th:only-of-type {\n",
       "        vertical-align: middle;\n",
       "    }\n",
       "\n",
       "    .dataframe tbody tr th {\n",
       "        vertical-align: top;\n",
       "    }\n",
       "\n",
       "    .dataframe thead th {\n",
       "        text-align: right;\n",
       "    }\n",
       "</style>\n",
       "<table border=\"1\" class=\"dataframe\">\n",
       "  <thead>\n",
       "    <tr style=\"text-align: right;\">\n",
       "      <th></th>\n",
       "      <th>age</th>\n",
       "      <th>c_charge_degree</th>\n",
       "      <th>race</th>\n",
       "      <th>score_text</th>\n",
       "      <th>sex</th>\n",
       "      <th>priors_count</th>\n",
       "      <th>days_b_screening_arrest</th>\n",
       "      <th>decile_score</th>\n",
       "      <th>is_recid</th>\n",
       "      <th>two_year_recid</th>\n",
       "      <th>days_in_jail</th>\n",
       "    </tr>\n",
       "  </thead>\n",
       "  <tbody>\n",
       "    <tr>\n",
       "      <th>0</th>\n",
       "      <td>34</td>\n",
       "      <td>0</td>\n",
       "      <td>1</td>\n",
       "      <td>-1</td>\n",
       "      <td>1</td>\n",
       "      <td>0</td>\n",
       "      <td>-1.0</td>\n",
       "      <td>3</td>\n",
       "      <td>1</td>\n",
       "      <td>1</td>\n",
       "      <td>10</td>\n",
       "    </tr>\n",
       "    <tr>\n",
       "      <th>1</th>\n",
       "      <td>24</td>\n",
       "      <td>0</td>\n",
       "      <td>1</td>\n",
       "      <td>-1</td>\n",
       "      <td>1</td>\n",
       "      <td>4</td>\n",
       "      <td>-1.0</td>\n",
       "      <td>4</td>\n",
       "      <td>1</td>\n",
       "      <td>1</td>\n",
       "      <td>1</td>\n",
       "    </tr>\n",
       "    <tr>\n",
       "      <th>2</th>\n",
       "      <td>41</td>\n",
       "      <td>0</td>\n",
       "      <td>0</td>\n",
       "      <td>0</td>\n",
       "      <td>1</td>\n",
       "      <td>14</td>\n",
       "      <td>-1.0</td>\n",
       "      <td>6</td>\n",
       "      <td>1</td>\n",
       "      <td>1</td>\n",
       "      <td>6</td>\n",
       "    </tr>\n",
       "    <tr>\n",
       "      <th>3</th>\n",
       "      <td>39</td>\n",
       "      <td>1</td>\n",
       "      <td>0</td>\n",
       "      <td>-1</td>\n",
       "      <td>0</td>\n",
       "      <td>0</td>\n",
       "      <td>-1.0</td>\n",
       "      <td>1</td>\n",
       "      <td>0</td>\n",
       "      <td>0</td>\n",
       "      <td>2</td>\n",
       "    </tr>\n",
       "    <tr>\n",
       "      <th>4</th>\n",
       "      <td>27</td>\n",
       "      <td>0</td>\n",
       "      <td>0</td>\n",
       "      <td>-1</td>\n",
       "      <td>1</td>\n",
       "      <td>0</td>\n",
       "      <td>-1.0</td>\n",
       "      <td>4</td>\n",
       "      <td>0</td>\n",
       "      <td>0</td>\n",
       "      <td>1</td>\n",
       "    </tr>\n",
       "  </tbody>\n",
       "</table>\n",
       "</div>"
      ],
      "text/plain": [
       "   age  c_charge_degree  race  score_text  sex  priors_count  \\\n",
       "0   34                0     1          -1    1             0   \n",
       "1   24                0     1          -1    1             4   \n",
       "2   41                0     0           0    1            14   \n",
       "3   39                1     0          -1    0             0   \n",
       "4   27                0     0          -1    1             0   \n",
       "\n",
       "   days_b_screening_arrest  decile_score  is_recid  two_year_recid  \\\n",
       "0                     -1.0             3         1               1   \n",
       "1                     -1.0             4         1               1   \n",
       "2                     -1.0             6         1               1   \n",
       "3                     -1.0             1         0               0   \n",
       "4                     -1.0             4         0               0   \n",
       "\n",
       "   days_in_jail  \n",
       "0            10  \n",
       "1             1  \n",
       "2             6  \n",
       "3             2  \n",
       "4             1  "
      ]
     },
     "execution_count": 10,
     "metadata": {},
     "output_type": "execute_result"
    }
   ],
   "source": [
    "cols =  ['age', 'c_charge_degree', 'race', 'score_text', 'sex',\n",
    "       'priors_count', 'days_b_screening_arrest', 'decile_score', 'is_recid',\n",
    "       'two_year_recid', 'days_in_jail']\n",
    "df = df[cols]\n",
    "df.head(5)"
   ]
  },
  {
   "cell_type": "code",
   "execution_count": 11,
   "metadata": {
    "id": "SNwURvUIUF5y"
   },
   "outputs": [],
   "source": [
    "from sklearn.model_selection import train_test_split\n",
    "from sklearn import preprocessing\n",
    "col_X = ['age', 'c_charge_degree', 'score_text', 'sex',\n",
    "       'priors_count', 'days_b_screening_arrest', 'decile_score', 'is_recid', \n",
    "        'days_in_jail']\n",
    "X = df[col_X]\n",
    "Z = df['race']\n",
    "y = df['two_year_recid']\n",
    "X_train, X_test, Z_train, Z_test, y_train, y_test = train_test_split( X, Z, y, test_size=0.33, random_state=42)"
   ]
  },
  {
   "cell_type": "markdown",
   "metadata": {
    "id": "9PdicumGLWkL"
   },
   "source": [
    "We've imported our dataset, and we only select the columns we need, as well as our target variable: two_year_recid Feature seelction is based on this notebook: https://github.com/propublica/compas-analysis/blob/master/Compas%20Analysis.ipynb"
   ]
  },
  {
   "cell_type": "code",
   "execution_count": 12,
   "metadata": {
    "id": "OBt5lP1U6WqZ"
   },
   "outputs": [],
   "source": [
    "scaler_train = preprocessing.StandardScaler().fit(X_train)\n",
    "scaler_test = preprocessing.StandardScaler().fit(X_test)"
   ]
  },
  {
   "cell_type": "markdown",
   "metadata": {
    "id": "5Gin_jABLih8"
   },
   "source": [
    "We use scikit learn's framework for optimization: https://docs.scipy.org/doc/scipy/reference/generated/scipy.optimize.minimize.html https://docs.scipy.org/doc/scipy/reference/generated/scipy.optimize.minimize.html#scipy.optimize.minimize https://scipy-lectures.org/advanced/mathematical_optimization/auto_examples/plot_non_bounds_constraints.html\n",
    "\n",
    "Each of the constraints required for the framework to work needs to be programmed s.t. >= 0 for it to be true."
   ]
  },
  {
   "cell_type": "code",
   "execution_count": 13,
   "metadata": {
    "id": "2kVy7GliUwl8"
   },
   "outputs": [],
   "source": [
    "import scipy\n",
    "from scipy.optimize import minimize\n",
    "from numpy import linalg as LA\n",
    "\n",
    "k = X_train.shape[1]\n",
    "N = X_train.shape[0]\n",
    "\n",
    "#equation 9 from paper\n",
    "def upper_theta_constraint(params, X, Z, c, k):\n",
    "    theta = params[:k]\n",
    "    return ((-1/len(Z)) * np.matmul(np.matmul(transpose(Z - Z.mean()), X), theta)) + c\n",
    "\n",
    "def lower_theta_constraint(params, X, Z, c, k):\n",
    "    theta = params[:k]\n",
    "    return ((np.matmul(np.matmul(transpose(Z - Z.mean()), X), theta))/len(Z)) + c  \n",
    "\n",
    "def svm_loss(params, X, y, C, k):\n",
    "    theta = params[:k]\n",
    "    phi = params[k:]\n",
    "    y_hat = y * np.dot(X,theta) \n",
    "    y_hat = np.maximum(np.zeros_like(y_hat), (1-y_hat)) \n",
    "    \n",
    "    return C*sum(y_hat)\n",
    "\n",
    "def phi_constraint(params,k):\n",
    "  #theta = params[:k]\n",
    "    phi = params[k:]\n",
    "\n",
    "    return phi \n",
    "\n",
    "def phi_constraint2(params, k, y , X):\n",
    "    theta = params[:k]\n",
    "    phi = params[k:]\n",
    "    return np.dot( transpose(theta), np.matmul(y,X)) - 1 + sum(phi)"
   ]
  },
  {
   "cell_type": "code",
   "execution_count": 15,
   "metadata": {
    "id": "jApfY7eQVRSr"
   },
   "outputs": [],
   "source": [
    "theta = np.array(np.random.uniform(size=k)).reshape(-1, 1)\n",
    "phi = np.array(np.random.uniform(size=N))\n",
    "params = np.append(theta.flatten(), phi.flatten())\n",
    "X_train_scaled = scaler_train.transform(X_train)\n",
    "res = scipy.optimize.minimize(svm_loss, x0=params, args=(X_train_scaled, y_train, 0.8, k), \n",
    "                        method='SLSQP', \n",
    "                        constraints=({'type': 'ineq', 'fun': upper_theta_constraint, 'args': (X_train_scaled, Z_train , 0.8, k)},\n",
    "                                     {'type': 'ineq', 'fun': lower_theta_constraint, 'args': (X_train_scaled, Z_train , 0.8, k)},\n",
    "                                      {'type': 'ineq', 'fun': phi_constraint, 'args': [k]}),\n",
    "                                     {'type': 'ineq', 'fun': phi_constraint2, \n",
    "                                      'args': [k, y_train, scaler_train.transform(X_train)]})"
   ]
  },
  {
   "cell_type": "code",
   "execution_count": 16,
   "metadata": {
    "id": "Xny6zeYU4Qwv"
   },
   "outputs": [],
   "source": [
    "pd.DataFrame(res.x).to_csv('svm_parameters_second_try.csv')"
   ]
  },
  {
   "cell_type": "code",
   "execution_count": 17,
   "metadata": {},
   "outputs": [],
   "source": [
    "import scipy\n",
    "from scipy.optimize import minimize\n",
    "from numpy import linalg as LA\n",
    "\n",
    "k = X_train_scaled.shape[1]\n",
    "N = X_train_scaled.shape[0]\n",
    "\n",
    "params_hat = pd.read_csv('svm_parameters_second_try.csv')\n",
    "theta_hat = params_hat['0'][0:k]"
   ]
  },
  {
   "cell_type": "markdown",
   "metadata": {},
   "source": [
    "Now we evaluate for our evaluation metrics on our test accordingly."
   ]
  },
  {
   "cell_type": "code",
   "execution_count": 18,
   "metadata": {},
   "outputs": [],
   "source": [
    "X_test_scaled = scaler_test.transform(X_test)\n",
    "yhat_test = np.matmul(theta_hat, np.transpose(X_test_scaled))"
   ]
  },
  {
   "cell_type": "code",
   "execution_count": 25,
   "metadata": {},
   "outputs": [
    {
     "data": {
      "text/plain": [
       "array([ -6.5787291 , -10.12326661, -16.50723231,  -7.52874247,\n",
       "        -7.62988383,  -6.87659367,  -6.66070049,  -7.11501846,\n",
       "        -7.44795851,  -8.88717776, -10.42619581,  -8.90393294,\n",
       "        -8.13645599,  -7.25185987,  -8.80720499, -12.44389505,\n",
       "       -10.04748646,  -5.45245145,  -6.65051443,  -6.67769703,\n",
       "       -12.82139246,  -7.87537439, -16.22477462,  -8.83853321,\n",
       "        -8.54653109, -16.92249005, -12.45017494, -12.53546802,\n",
       "        -8.66603163,  -9.81351443,  -8.83557382,  -9.13068031,\n",
       "        -7.37873104,  -5.37474662,  -6.68319096,  -7.27974719,\n",
       "       -10.82229821, -11.17543547,  -9.82559656, -13.37912781,\n",
       "       -13.31470705,  -5.94089805,  -8.13668801,  -4.28211558,\n",
       "       -12.10243837,  -4.95190303,  -8.27407644,  -7.34286958,\n",
       "       -15.93315028,  -7.98531434,  -6.32677443, -11.74444881,\n",
       "       -12.83645286,  -8.2957357 ,  -7.50436028, -10.14669704,\n",
       "        -8.35880584,  -7.01923537,  -9.70536395,  -7.67351646,\n",
       "        -6.70274536, -16.41843452,  -9.1698855 ,  -4.37091337,\n",
       "        -6.59359137, -14.01541997, -11.70036273, -12.22091839,\n",
       "        -9.8518862 ,  -9.91902065, -13.09388554, -10.02585953,\n",
       "       -12.61448   ,  -6.01497655, -17.25262967,  -7.97983625,\n",
       "       -13.35774309,  -7.86385595, -11.15834263,  -7.40227327,\n",
       "        -8.00429401, -14.3858387 , -14.00771018, -16.75838519,\n",
       "        -5.95900035,  -7.37226693, -11.74563622,  -8.64811325,\n",
       "        -7.93782865, -10.05235996, -11.23335038,  -7.1596371 ,\n",
       "       -13.55791001,  -5.00602568, -13.22871484, -13.9619054 ,\n",
       "       -10.34586845,  -8.38156099, -11.82623116, -10.80868382,\n",
       "        -9.05736237,  -5.20089831, -17.06498489,  -9.7798824 ,\n",
       "       -11.13282946,  -8.04964828, -13.85794879,  -8.51779661,\n",
       "       -11.14986716, -10.15290033, -11.05245475,  -8.02834522,\n",
       "        -9.89935027,  -5.41316703,  -7.96554262, -15.00794311,\n",
       "        -6.64326445,  -4.9824821 , -12.4055563 , -11.50131718,\n",
       "       -10.64227582,  -8.86464803,  -7.36954938, -15.28781882,\n",
       "        -9.39757772, -10.53309659,  -7.05746842,  -8.90489807,\n",
       "        -6.92334658, -10.40455085,  -6.99124277,  -8.13749921,\n",
       "        -7.00223883, -16.24254509,  -8.55136007,  -9.34065467,\n",
       "       -11.39940575,  -9.55777522, -14.38149251, -11.65897271,\n",
       "        -8.25603745,  -9.0146215 ,  -6.85154534, -13.18117604,\n",
       "       -12.57130273, -10.23336055, -10.42917805, -15.63440189,\n",
       "        -5.71320582,  -6.79099783, -11.83912614, -10.6957303 ,\n",
       "       -15.51515824,  -7.22106799,  -7.94105473,  -7.64609978,\n",
       "       -11.01164266,  -8.10385259, -10.06259138,  -6.13820692,\n",
       "        -7.55967035, -10.40386503, -11.11206763, -13.40417614,\n",
       "        -7.06981813, -12.38457303,  -6.30897609, -12.79732814,\n",
       "       -12.34220838,  -6.76476089,  -5.52366813,  -8.99048981,\n",
       "        -7.60173113, -11.65452123,  -9.01920784, -15.56324355,\n",
       "        -9.9682469 ,  -9.30026611,  -8.16937394,  -8.88848811,\n",
       "       -11.19625161,  -8.51479321, -12.20090509,  -9.73911606,\n",
       "       -14.14833864,  -6.00602537, -14.24005087,  -8.95060735,\n",
       "       -15.05100701,  -5.93620592, -16.12230198,  -5.45629442,\n",
       "        -4.43371597,  -8.08685604, -17.54283649, -11.85582319,\n",
       "        -6.85696124, -10.34720666,  -6.758481  , -11.30012733,\n",
       "        -7.01975666, -12.5684485 ,  -5.9615582 , -14.15778854,\n",
       "       -12.68547945,  -7.44743723, -14.57440743, -13.52271438,\n",
       "        -6.11474636, -10.69516168,  -7.21656016, -10.75734549,\n",
       "       -12.92994269,  -8.47194646, -11.2213866 ,  -8.13963348,\n",
       "       -10.12317804,  -7.90282168, -10.85383718, -14.94906754,\n",
       "        -8.65900677,  -5.97593034, -12.5699006 , -10.25722146,\n",
       "        -9.14379016,  -9.59407659, -12.36469876, -11.58733045,\n",
       "       -13.73793512,  -6.05194375, -10.99137836, -11.66892705,\n",
       "       -17.10580307,  -8.83668076,  -9.5619613 ,  -6.99577481,\n",
       "        -7.7612024 , -11.6059305 , -15.31464852, -18.27316553,\n",
       "       -12.507098  ,  -8.49340849, -11.52635808,  -6.76476823,\n",
       "        -8.90602795,  -4.71728644,  -8.30705692,  -6.60846956,\n",
       "       -10.02602452, -17.13845419,  -9.19733393, -10.20617795,\n",
       "        -7.21386545,  -9.253259  , -16.03445105,  -8.16349439,\n",
       "        -4.77132727, -10.83931687,  -9.4054023 ,  -8.52369546,\n",
       "       -15.59808119, -10.93266374,  -8.22083208,  -6.5159265 ,\n",
       "       -12.03963577,  -6.57832756,  -4.0619143 ,  -8.75845346,\n",
       "       -10.11951444,  -8.15827089, -10.46849997,  -7.75379438,\n",
       "        -8.05433146,  -7.0027347 ,  -8.72668452,  -7.77719243,\n",
       "       -13.12261091,  -8.52198475,  -8.82842882,  -8.35540572,\n",
       "       -11.39030504,  -5.7951772 ,  -8.06720526, -10.32002406,\n",
       "       -10.18370653,  -8.99323678, -13.10173834,  -8.6011344 ,\n",
       "        -5.05229364,  -9.49734745,  -7.23593234,  -5.62001986,\n",
       "       -17.24580326, -12.66056798, -10.66391513,  -9.61801997,\n",
       "       -10.47531734,  -7.01591368,  -9.9051931 ,  -6.53017608,\n",
       "        -7.50743942,  -5.45513024,  -9.34054888,  -8.32898696,\n",
       "       -13.03068259,  -6.3600196 ,  -5.78140477, -10.55351417,\n",
       "        -6.43468783,  -7.25550066,  -6.16206783,  -8.36788495,\n",
       "       -10.0248371 , -13.39927686,  -9.67330908,  -4.61036469,\n",
       "       -11.04958899,  -9.54232759,  -7.4866976 , -11.93206955,\n",
       "        -7.97142217, -10.56235585,  -9.14201383, -16.57162258,\n",
       "       -17.22331279, -12.40452897,  -8.64590056,  -9.90629886,\n",
       "        -9.39288559,  -6.81540405, -11.78379085,  -9.01620917,\n",
       "       -10.90093206,  -8.71131611,  -8.75386712, -10.69454289,\n",
       "        -7.57284473,  -9.70117267, -13.19391092,  -9.27903948,\n",
       "       -17.08463559, -12.91683648,  -8.56287852, -10.25156045,\n",
       "        -8.36988356, -10.02952923, -13.8650324 ,  -5.15504482,\n",
       "        -6.3872022 , -15.43882576,  -8.0374648 , -10.02265537,\n",
       "        -7.9683178 ,  -8.84322534,  -8.22160486,  -6.55420197,\n",
       "       -10.61720225,  -6.50692786,  -8.25116111, -10.58400162,\n",
       "        -8.6925317 , -10.55470159,  -4.79655737,  -9.46617821,\n",
       "        -6.98949492, -17.1174805 ,  -6.95951191, -13.05206612,\n",
       "        -8.78630228,  -8.226297  ,  -9.48623367,  -9.24708428,\n",
       "        -5.73718767, -17.38071107, -16.05694152, -12.44389505,\n",
       "        -9.0487894 ,  -6.31916215,  -9.35589515,  -7.80571304,\n",
       "        -4.71245171, -16.69183651,  -7.04897583,  -9.45131594,\n",
       "       -11.11776581, -15.30922686,  -8.36611739, -16.5871053 ,\n",
       "        -9.36783727, -10.32002406,  -6.36722213,  -9.68219301,\n",
       "       -15.17361981,  -5.84536253,  -7.05862397, -10.40813359,\n",
       "       -10.10249578,  -9.7019001 ,  -9.77476911, -13.93395896,\n",
       "        -8.82125606, -13.10516144,  -5.68014367, -10.43966806,\n",
       "       -15.79380162,  -5.19928532,  -9.801837  , -17.10580307,\n",
       "        -9.85099538,  -7.23494841,  -8.43600667, -11.73695746,\n",
       "        -8.19442226,  -9.62526995, -12.62289408,  -5.89821028,\n",
       "        -7.92196642,  -7.2825476 ,  -7.99979099, -12.71145051,\n",
       "        -6.93257186,  -5.28168228, -10.04239408,  -7.91743358,\n",
       "        -8.69694406,  -6.09133958,  -6.95974552,  -4.06805687,\n",
       "        -8.62372987,  -8.78902638,  -9.13545291, -16.84634061,\n",
       "        -8.21181915,  -5.68026461,  -6.46917358,  -9.59258723,\n",
       "        -5.72566913,  -7.72669424,  -6.9500079 ,  -8.95769844,\n",
       "       -12.815673  ,  -3.37954754,  -6.33911689,  -5.51833319,\n",
       "        -9.91431268, -13.2785468 , -12.97748158,  -8.60572527,\n",
       "        -9.53860644, -11.18924919, -12.64888152, -12.16888126,\n",
       "       -10.67668316,  -6.78685102,  -6.34154682,  -6.51644769,\n",
       "       -13.29994181,  -8.34591567,  -4.6885908 ,  -5.82385118,\n",
       "        -9.90058222,  -9.5350237 ,  -7.75214402, -10.8711916 ,\n",
       "        -7.96698578, -12.24694648, -16.62067816, -12.91403607,\n",
       "        -5.54755076, -11.62812771,  -9.94874527, -12.17683674,\n",
       "        -6.01711082, -12.31794593, -13.23298339,  -7.55170302,\n",
       "       -11.75203825, -12.98587024,  -5.17371571,  -8.21459424,\n",
       "        -5.68282247,  -9.30023674, -15.08695639,  -9.14631905,\n",
       "       -11.70942848, -15.70244598, -14.0332585 , -13.97221835,\n",
       "        -8.22246925, -10.38204273,  -7.476913  , -10.69710074,\n",
       "       -12.04543365,  -9.3055951 ,  -7.92369916,  -7.48844535,\n",
       "        -8.3244916 , -17.00596258, -12.77427724,  -5.37166748,\n",
       "       -11.74722399,  -6.55327924,  -7.57438955, -14.16165119,\n",
       "        -8.03462512,  -8.10775875,  -6.12334465,  -6.95292805,\n",
       "        -7.3060658 ,  -6.98306885,  -6.70155794,  -4.97320608,\n",
       "        -8.09154817, -12.35760775,  -6.23407167,  -9.45995595,\n",
       "        -6.71919658, -10.8711916 ,  -7.99348906,  -6.59359137,\n",
       "        -5.49850018, -14.29917519,  -9.91107265,  -8.75974667,\n",
       "        -5.73249554, -14.01004701,  -9.92069339,  -7.60976819,\n",
       "        -8.19083588, -11.73421739,  -9.95766214,  -5.25462061,\n",
       "       -14.47424228,  -5.51525405, -11.1730366 , -12.81968176,\n",
       "        -9.21073092, -16.53479104,  -8.83882428, -10.55939372,\n",
       "        -9.10128501, -10.32231723, -13.60043445,  -5.5630968 ,\n",
       "        -7.27463148,  -8.65177401,  -9.78665486,  -7.28914728,\n",
       "        -6.30309654, -11.18832445,  -5.08385144,  -8.84296057,\n",
       "       -13.18397402, -10.29577874, -12.54016015,  -8.01867096,\n",
       "        -8.90554594,  -5.42859054,  -5.20089831,  -7.83490137,\n",
       "        -8.03285314,  -5.56629756,  -7.64846813,  -7.44463682,\n",
       "       -11.92737742,  -6.41694266, -10.58567138, -10.22063248,\n",
       "       -10.23336055,  -8.89318268,  -9.25269794, -12.12890947,\n",
       "        -9.64137483, -12.74828206,  -8.59008325,  -9.03408593,\n",
       "       -12.83032207,  -7.39859542,  -5.84771209,  -7.96554262,\n",
       "        -6.90090836,  -6.73971247,  -6.4887439 ,  -6.9362939 ,\n",
       "        -6.33774645,  -9.52666432, -13.13593042, -10.70042243,\n",
       "        -6.44412526,  -9.20820021, -16.52256474, -13.63774791,\n",
       "        -6.97115741, -10.32878408, -13.88172804, -12.39285154,\n",
       "        -8.1167991 ,  -9.60132738,  -6.99364053, -12.06220465,\n",
       "       -13.02864602,  -8.15608352,  -9.53272689,  -9.13807939,\n",
       "       -10.17174536, -16.33392861,  -5.34448488,  -8.75974667,\n",
       "        -8.55233017,  -5.54338151,  -6.80934068,  -8.84862288,\n",
       "        -5.48231284,  -6.78822145, -17.4957446 , -10.66926619,\n",
       "        -9.82567497,  -9.51142384, -10.55351417, -10.86363073,\n",
       "        -9.31362966, -14.31325158,  -6.85654746,  -7.48363276,\n",
       "        -8.38452654,  -9.50673171, -14.10942026,  -6.73517933,\n",
       "        -9.30503466,  -9.18989978,  -8.3171454 ,  -5.27912362,\n",
       "        -4.76937476,  -8.22041745,  -9.53860644,  -6.98273714,\n",
       "        -9.35246767, -16.93422262,  -6.59491445,  -9.67750088,\n",
       "        -7.9822884 , -10.53069763,  -7.85968501, -16.40786524,\n",
       "        -9.6193904 ,  -8.38846787,  -5.31474442,  -5.74219673,\n",
       "        -6.7197325 ,  -9.22892234, -12.86363546,  -7.99000648,\n",
       "        -6.00949854,  -9.26957475,  -9.28855931, -10.41227338,\n",
       "        -6.78685102,  -8.12449758,  -8.27735574, -15.05792296,\n",
       "        -9.8589773 , -11.44106509,  -6.15034224,  -9.145313  ,\n",
       "       -10.12275446,  -6.39466951,  -8.63651629,  -8.54763803,\n",
       "        -5.61746201,  -9.56246735,  -8.17047969,  -6.24617349,\n",
       "        -7.14240193,  -9.97194728,  -4.9422925 ,  -6.92334658,\n",
       "        -8.10477732, -12.77802251, -15.17572877, -11.81566549,\n",
       "       -15.04758902,  -9.67750088, -13.70556124,  -5.93181775,\n",
       "        -6.19885201, -17.50176455,  -7.55659121,  -8.43268617,\n",
       "        -7.39631205,  -6.35949141,  -7.13561531,  -2.17386315,\n",
       "        -9.82311593,  -8.90077538, -17.45390314, -14.33829991,\n",
       "        -4.83217737,  -8.08526828,  -6.3872022 ,  -9.24120473,\n",
       "       -14.11402195, -14.37017464,  -9.35605405, -11.98859226,\n",
       "        -7.88157381,  -6.72231567,  -7.98803309,  -6.76196158,\n",
       "        -6.39388354, -13.27324842,  -6.35155807,  -7.63183389,\n",
       "        -6.58003826,  -7.19290066,  -8.80438245, -14.00688634,\n",
       "       -11.54451672,  -9.16042076, -14.17944953,  -9.83489915,\n",
       "       -16.11696895,  -5.51833319,  -8.07090188, -10.81426855,\n",
       "        -6.70716386, -17.21174681, -10.45411399,  -6.41101495,\n",
       "        -8.5889775 , -10.2092193 , -11.63677679,  -8.01734797,\n",
       "       -13.72765145,  -7.99000648,  -8.03581253, -14.07976147,\n",
       "        -6.10514477,  -8.2855552 ,  -8.08685604, -14.72076989,\n",
       "       -16.10623638, -11.31821952,  -9.17328356, -12.73840628,\n",
       "       -12.65232607,  -6.78775091, -13.43272918, -13.12088384,\n",
       "        -9.71636091, -15.89514558, -10.66480243,  -8.38606891,\n",
       "        -7.60132959,  -9.17888727, -14.28615065, -12.23049645,\n",
       "       -13.3671857 ,  -5.25293073, -11.0927832 ,  -8.27099569,\n",
       "       -10.10672516,  -5.56629756,  -6.02286943, -11.64623769,\n",
       "        -8.29435097, -13.26058957, -10.37694712, -11.89912834,\n",
       "        -8.67624072, -12.6641764 ,  -8.19552801,  -4.77609246,\n",
       "        -4.79198617,  -6.94678382, -12.23220386, -10.01734575,\n",
       "        -7.87520656, -11.44022409, -13.62216108, -13.4610992 ,\n",
       "       -11.77547438,  -8.02516038,  -8.30562805, -10.29028361,\n",
       "       -12.1772272 , -10.98058816,  -5.45245145,  -7.67351646,\n",
       "        -7.81845134,  -6.2473609 ,  -7.35916072,  -7.56128334,\n",
       "       -12.4557898 ,  -7.00117235,  -6.43999356, -16.00001837,\n",
       "        -7.10589889, -10.26310101,  -7.52822119, -17.33552378,\n",
       "        -8.93877022, -11.74204984,  -8.9075413 ,  -9.41766923,\n",
       "        -9.68219301,  -8.61553311,  -8.54602504,  -6.01656431,\n",
       "        -9.52922218,  -8.92582371,  -5.71320582, -10.01734575,\n",
       "        -7.82346869, -15.68260572, -13.1815378 ,  -6.04843904,\n",
       "       -13.44899738,  -9.17703169, -12.11195829,  -9.288824  ,\n",
       "       -12.82761511, -10.99156009,  -7.44155768, -10.46940851,\n",
       "       -11.7477705 , -17.5634807 ,  -8.11873077,  -9.74285394,\n",
       "        -8.75974667, -15.59174914,  -7.58606698,  -6.07540432,\n",
       "        -7.6182064 ,  -6.14885298, -13.26288274,  -7.99391264,\n",
       "       -10.92193237, -11.58797335, -17.61800479,  -7.01743368,\n",
       "        -6.90228489,  -7.78736257, -14.22326638, -15.11250952,\n",
       "       -10.40599931, -14.25377067,  -8.44905454,  -7.24275675,\n",
       "       -10.93034525, -10.59311836, -10.61043723, -13.79827957,\n",
       "       -16.7004348 ,  -8.46925184, -12.53617342, -17.60260542,\n",
       "       -13.29502216, -17.33929318,  -8.33492161,  -7.04309628,\n",
       "        -9.54089961, -10.76420604,  -3.63679318, -10.43387018,\n",
       "        -4.79591447,  -6.13820692,  -8.39722544,  -8.56040114,\n",
       "        -6.21762045,  -8.74295273, -10.75734549,  -9.0216068 ,\n",
       "        -8.34322225,  -8.94303348, -16.19343691,  -3.79229854,\n",
       "       -10.01136405,  -6.33615869,  -8.56732809,  -7.47129813,\n",
       "        -7.16511511,  -8.24854491,  -9.07810627,  -5.54039999,\n",
       "        -8.69813148, -13.65195987, -13.1302681 , -12.93548316,\n",
       "        -7.55419225,  -9.10025323, -10.36540656, -12.86619332,\n",
       "        -6.15584557,  -6.4562847 , -11.08094244,  -8.1612707 ,\n",
       "       -10.03071665])"
      ]
     },
     "execution_count": 25,
     "metadata": {},
     "output_type": "execute_result"
    }
   ],
   "source": [
    "yhat_test[yhat_test < 0]"
   ]
  },
  {
   "cell_type": "markdown",
   "metadata": {},
   "source": [
    "# eval metric 1: Accuracy\n",
    "Now we evaluate for accuracy"
   ]
  },
  {
   "cell_type": "code",
   "execution_count": 26,
   "metadata": {},
   "outputs": [
    {
     "data": {
      "text/plain": [
       "0.9735935706084959"
      ]
     },
     "execution_count": 26,
     "metadata": {},
     "output_type": "execute_result"
    }
   ],
   "source": [
    "\n",
    "len(yhat_test[((yhat_test > 0) & (y_test > 0)) | ((yhat_test <= 0) & (y_test <= 0))])/len(yhat_test)"
   ]
  },
  {
   "cell_type": "markdown",
   "metadata": {},
   "source": [
    "# eval metric 2: Calibration \n",
    "Now we evaluate for calibration"
   ]
  },
  {
   "cell_type": "code",
   "execution_count": 30,
   "metadata": {},
   "outputs": [
    {
     "data": {
      "text/plain": [
       "(0.9727443609022557, 0.9749262536873157)"
      ]
     },
     "execution_count": 30,
     "metadata": {},
     "output_type": "execute_result"
    }
   ],
   "source": [
    "odds_pos = yhat_test[Z_test == 1]\n",
    "odds_neg = yhat_test[Z_test == 0]\n",
    "y_pos = y_test[Z_test == 1]\n",
    "y_neg = y_test[Z_test == 0]\n",
    "\n",
    "calibration_pos = len(odds_pos[((odds_pos > 0) & (y_pos > 0)) |\n",
    "    ((odds_pos <= 0) & (y_pos <= 0))])/len(odds_pos)\n",
    "calibration_neg = len(odds_neg[((odds_neg > 0) & (y_neg > 0)) |\n",
    "    ((odds_neg <= 0) & (y_neg <= 0))])/len(odds_neg)\n",
    "calibration_pos, calibration_neg   "
   ]
  },
  {
   "cell_type": "markdown",
   "metadata": {},
   "source": [
    "The sensitive group is 97% calibrated and the the nonprotected group is 97.5% accurate, meaning the model is able to accurately identify both groups"
   ]
  },
  {
   "cell_type": "markdown",
   "metadata": {},
   "source": [
    "# eval metric 3: equality of odds"
   ]
  },
  {
   "cell_type": "code",
   "execution_count": 29,
   "metadata": {},
   "outputs": [
    {
     "name": "stdout",
     "output_type": "stream",
     "text": [
      "1.0 0.055876685934489405\n",
      "1.0 0.04009433962264151\n"
     ]
    }
   ],
   "source": [
    "#protected: y = 1, then y =0 \n",
    "print(len(y_pos[(odds_pos > 0) & (y_pos > 0)]) / len(y_pos[y_pos > 0]), len(y_pos[(odds_pos > 0) & (y_pos <= 0)]) / len(y_pos[y_pos <= 0]))\n",
    "#nonprotected: y = 1, then y =0 \n",
    "print(len(y_neg[(odds_neg > 0) & (y_neg > 0)]) / len(y_neg[y_neg > 0]), len(y_neg[(odds_neg > 0) & (y_neg <= 0)]) / len(y_neg[y_neg <= 0]))"
   ]
  },
  {
   "cell_type": "markdown",
   "metadata": {},
   "source": [
    "The model is able to predict both groups within the postive target variable 100% of the time, and the negative target 5.6% for the protected group and 4% for the non protected group"
   ]
  },
  {
   "cell_type": "markdown",
   "metadata": {},
   "source": [
    "# eval metric 4: parity"
   ]
  },
  {
   "cell_type": "code",
   "execution_count": 33,
   "metadata": {},
   "outputs": [
    {
     "data": {
      "text/plain": [
       "(0.3997050147492625, 0.5394736842105263)"
      ]
     },
     "execution_count": 33,
     "metadata": {},
     "output_type": "execute_result"
    }
   ],
   "source": [
    "(len(odds_neg[odds_neg > 0])/len(odds_neg),\n",
    "  len(odds_pos[odds_pos > 0])/len(odds_pos))"
   ]
  },
  {
   "cell_type": "markdown",
   "metadata": {},
   "source": [
    "The model predict that 40% of the nonprotected group will return to criminal behaviour and 54% of the protected will do so as well - this is close to the true values; 37.4% and 51.2% respectively"
   ]
  },
  {
   "cell_type": "code",
   "execution_count": 34,
   "metadata": {},
   "outputs": [
    {
     "data": {
      "text/plain": [
       "(0.3746312684365782, 0.5122180451127819)"
      ]
     },
     "execution_count": 34,
     "metadata": {},
     "output_type": "execute_result"
    }
   ],
   "source": [
    "(len(y_neg[y_neg > 0])/len(y_neg),\n",
    "  len(y_pos[y_pos > 0])/len(y_pos))"
   ]
  },
  {
   "cell_type": "code",
   "execution_count": null,
   "metadata": {},
   "outputs": [],
   "source": []
  }
 ],
 "metadata": {
  "colab": {
   "provenance": []
  },
  "kernelspec": {
   "display_name": "Python 3 (ipykernel)",
   "language": "python",
   "name": "python3"
  },
  "language_info": {
   "codemirror_mode": {
    "name": "ipython",
    "version": 3
   },
   "file_extension": ".py",
   "mimetype": "text/x-python",
   "name": "python",
   "nbconvert_exporter": "python",
   "pygments_lexer": "ipython3",
   "version": "3.9.12"
  }
 },
 "nbformat": 4,
 "nbformat_minor": 1
}
