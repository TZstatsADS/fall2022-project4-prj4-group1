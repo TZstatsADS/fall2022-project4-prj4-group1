{
  "cells": [
    {
      "cell_type": "markdown",
      "source": [
        "This notebook evaluates the learning fair representations algorithm on COMPAS data\n",
        "https://proceedings.mlr.press/v28/zemel13.html"
      ],
      "metadata": {
        "id": "hvA7XjfNLyhx"
      }
    },
    {
      "cell_type": "code",
      "execution_count": 42,
      "metadata": {
        "id": "Y3v9wGJN8kIQ"
      },
      "outputs": [],
      "source": [
        "import numpy as np\n",
        "import pandas as pd"
      ]
    },
    {
      "cell_type": "code",
      "execution_count": 43,
      "metadata": {
        "id": "iSDsZVOpc7f1"
      },
      "outputs": [],
      "source": [
        "#features selected as per this tutorial: https://github.com/propublica/compas-analysis/blob/master/Compas%20Analysis.ipynb\n",
        "df = pd.read_csv('../data/COMPAS_preprocessed.csv')\n",
        "\n",
        "from sklearn.model_selection import train_test_split\n",
        "col_X = ['race','age', 'c_charge_degree', 'score_text', 'sex',\n",
        "       'priors_count', 'days_b_screening_arrest', 'decile_score', 'is_recid', \n",
        "        'days_in_jail']\n",
        "X = df[col_X]\n",
        "y = df['two_year_recid']\n",
        "\n",
        "X_train, X_test, y_train, y_test = train_test_split( X, y, test_size=0.33, random_state=42)\n",
        "\n",
        "X_pos = X_train[X_train['race']==1]\n",
        "X_neg = X_train[X_train['race']==0]\n",
        "\n",
        "y_pos = np.array(y_train[X_train['race']==1])\n",
        "y_neg = np.array(y_train[X_train['race']==0])\n",
        "\n",
        "col_X = ['age', 'c_charge_degree', 'score_text', 'sex',\n",
        "       'priors_count', 'days_b_screening_arrest', 'decile_score', 'is_recid', \n",
        "        'days_in_jail']\n",
        "\n",
        "X_pos = np.array(X_pos[col_X])\n",
        "X_neg = np.array(X_neg[col_X])"
      ]
    },
    {
      "cell_type": "markdown",
      "source": [
        "We've imported our dataset, and we only select the columns we need, as well as our target variable: two_year_recid Feature seelction is based on this notebook: https://github.com/propublica/compas-analysis/blob/master/Compas%20Analysis.ipynb"
      ],
      "metadata": {
        "id": "52-qrc-GMBbz"
      }
    },
    {
      "cell_type": "code",
      "execution_count": 44,
      "metadata": {
        "id": "WYULwq3M0dR4"
      },
      "outputs": [],
      "source": [
        "# Equation 12\n",
        "\n",
        "def distances(X, v, alpha, N, D, K):\n",
        "    dists = np.zeros((N, D))\n",
        "    for n in range(N):\n",
        "        for i in range(D):\n",
        "            for k in range(K):\n",
        "              #print('n i k: ', n, i,k)\n",
        "              dists[n, k] += (X[n, i] - v[k, i]) * (X[n, i] - v[k, i]) * alpha[i]\n",
        "    return dists\n",
        "\n"
      ]
    },
    {
      "cell_type": "code",
      "execution_count": 45,
      "metadata": {
        "id": "-1RspnYL0gQa"
      },
      "outputs": [],
      "source": [
        "# Equation 2&3\n",
        "def M_nk(dists, N, K):\n",
        "    M_nk = np.zeros((N, K))\n",
        "    exp = np.zeros((N, K))\n",
        "    denom = np.zeros(N)\n",
        "    for n in range(N):\n",
        "        for j in range(K):\n",
        "            exp[n, j] = np.exp(-1 * dists[n, j])\n",
        "            denom[n] += exp[n, j]\n",
        "        for j in range(K):\n",
        "            if denom[n]:\n",
        "                M_nk[n, j] = exp[n, j] / denom[n]\n",
        "            else:\n",
        "                M_nk[n, j] = exp[n, j] / 1e-6\n",
        "    return M_nk"
      ]
    },
    {
      "cell_type": "code",
      "execution_count": 46,
      "metadata": {
        "id": "BxsMnkMq0gr6"
      },
      "outputs": [],
      "source": [
        "# Equation 6\n",
        "def M_k(M_nk, N, K):\n",
        "    M_k = np.zeros(K)\n",
        "    for j in range(K):\n",
        "        for n in range(N):\n",
        "            M_k[j] += M_nk[n, j]\n",
        "        M_k[j] /= N\n",
        "    return M_k"
      ]
    },
    {
      "cell_type": "code",
      "execution_count": 47,
      "metadata": {
        "id": "RFde1E6F0oua"
      },
      "outputs": [],
      "source": [
        "# Equation 8&9\n",
        "def Loss_x(X, M_nk, v, N, D, K):\n",
        "    x_n_hat = np.zeros((N, D))\n",
        "    L_x = 0.0\n",
        "    for n in range(N):\n",
        "        for i in range(D):\n",
        "            for k in range(K):\n",
        "                x_n_hat[n, i] += M_nk[n, k] * v[k, i]\n",
        "            L_x += (X[n, i] - x_n_hat[n, i]) * (X[n, i] - x_n_hat[n, i])\n",
        "    return x_n_hat, L_x"
      ]
    },
    {
      "cell_type": "code",
      "execution_count": 48,
      "metadata": {
        "id": "stQI3c6N0qok"
      },
      "outputs": [],
      "source": [
        "# Equation 10&11\n",
        "def Loss_y(M_nk, y, w, N, K):\n",
        "    yhat = np.zeros(N)\n",
        "    L_y = 0.0\n",
        "    for n in range(N):\n",
        "        for k in range(K):\n",
        "            yhat[n] += M_nk[n, k] * w[k]\n",
        "        yhat[n] = 1e-6 if yhat[n] <= 0 else yhat[n]\n",
        "        yhat[n] = 0.999 if yhat[n] >= 1 else yhat[n]\n",
        "        L_y += -1 * y[n] * np.log(yhat[n]) - (1.0 - y[n]) * np.log(1.0 - yhat[n])\n",
        "    return yhat, L_y"
      ]
    },
    {
      "cell_type": "code",
      "execution_count": 49,
      "metadata": {
        "id": "tAz9I0br0sQV"
      },
      "outputs": [],
      "source": [
        "\n",
        "# Equation 4 (target function)\n",
        "def LFR(params, X_pos, X_neg, y_pos, y_neg, K, A_z, A_x, A_y, results=0):   \n",
        "    #LFR.iters += 1\n",
        "    N_pos, D = X_pos.shape # protected set\n",
        "    N_neg, _ = X_neg.shape # non-protected set\n",
        "    \n",
        "    #print('PARAMS SHAPE: ', params.shape)\n",
        "    alpha_pos = params[:D]\n",
        "    alpha_neg = params[D: 2 * D]\n",
        "    w = params[2 * D: (2 * D) + K]\n",
        "    #print(alpha_pos.shape, alpha_neg.shape, w.shape)\n",
        "    v = np.matrix(params[(2 * D) + K:]).reshape((K, D)) # set of prototypes\n",
        "\n",
        "    dists_pos = distances(X_pos, v, alpha_pos, N_pos, D, K)\n",
        "    dists_neg = distances(X_neg, v, alpha_neg, N_neg, D, K)\n",
        "\n",
        "    M_nk_pos = M_nk(dists_pos, N_pos, K)\n",
        "    M_nk_neg = M_nk(dists_neg, N_neg, K)\n",
        "\n",
        "    M_k_pos = M_k(M_nk_pos, N_pos, K)\n",
        "    M_k_neg = M_k(M_nk_neg, N_neg, K)\n",
        "\n",
        "    L_z = 0.0\n",
        "    for k in range(K):\n",
        "        L_z += abs(M_k_pos[k] - M_k_neg[k]) # Equation 7\n",
        "\n",
        "    x_n_hat_pos, L_x_pos = Loss_x(X_pos, M_nk_pos, v, N_pos, D, K)\n",
        "    x_n_hat_neg, L_x_neg = Loss_x(X_neg, M_nk_neg, v, N_neg, D, K)\n",
        "    L_x = L_x_pos + L_x_neg\n",
        "\n",
        "    yhat_pos, L_y_pos = Loss_y(M_nk_pos, y_pos, w, N_pos, K)\n",
        "    yhat_neg, L_y_neg = Loss_y(M_nk_neg, y_neg, w, N_neg, K)\n",
        "    L_y = L_y_pos + L_y_neg\n",
        "\n",
        "    criterion = A_x * L_x + A_y * L_y + A_z * L_z\n",
        "\n",
        "    if results != 0:\n",
        "        return yhat_pos, yhat_neg, M_nk_pos, M_nk_neg\n",
        "    else:\n",
        "        return criterion"
      ]
    },
    {
      "cell_type": "markdown",
      "source": [
        "We use scikit learn's framework for optimization: https://docs.scipy.org/doc/scipy/reference/generated/scipy.optimize.minimize.html https://docs.scipy.org/doc/scipy/reference/generated/scipy.optimize.minimize.html#scipy.optimize.minimize https://scipy-lectures.org/advanced/mathematical_optimization/auto_examples/plot_non_bounds_constraints.html\n",
        "\n",
        "Each of the constraints required for the framework to work needs to be programmed s.t. >= 0 for it to be true."
      ],
      "metadata": {
        "id": "ypR27zHWMHoV"
      }
    },
    {
      "cell_type": "code",
      "execution_count": null,
      "metadata": {
        "id": "ggSq_RYrZNlu"
      },
      "outputs": [],
      "source": [
        "import scipy\n",
        "from scipy.optimize import minimize\n",
        "from numpy import linalg as LA\n",
        "D = X_pos.shape[1]\n",
        "K = 5\n",
        "alpha_pos = np.random.uniform(size=D)\n",
        "alpha_neg = np.random.uniform(size=D)\n",
        "w = np.random.uniform(size=K) \n",
        "v = np.random.uniform(size=K*D)\n",
        "params = alpha_pos\n",
        "for item in [alpha_neg, w, v]:\n",
        "  params = np.append(params, item.flatten())\n",
        "res = scipy.optimize.minimize(LFR, \n",
        "                        x0=params, \n",
        "                        args=(X_pos, X_neg, y_pos, y_neg, K, 1000, 1e-4, 0.1),\n",
        "                        method='SLSQP')"
      ]
    },
    {
      "cell_type": "code",
      "source": [
        "params = res.x"
      ],
      "metadata": {
        "id": "wtd036BTuenf"
      },
      "execution_count": 10,
      "outputs": []
    },
    {
      "cell_type": "code",
      "source": [
        "D = X_pos.shape[1]\n",
        "K = 5\n",
        "alpha_pos = params[:D]\n",
        "alpha_neg = params[D: 2*D]\n",
        "w = params[2*D: (2*D) + K]\n",
        "v = np.array(params[(2*D) + K: ]).reshape((K,D))#np.random.uniform(size=K*D)"
      ],
      "metadata": {
        "id": "RO_WgyU7yREz"
      },
      "execution_count": 50,
      "outputs": []
    },
    {
      "cell_type": "markdown",
      "source": [
        "Now we evaluate this algorithm based on the 4 metrics: parity, odd equality, explainable discrimination, and calibration"
      ],
      "metadata": {
        "id": "n54b3StO5Etb"
      }
    },
    {
      "cell_type": "code",
      "source": [
        "##calculate parity P(Y_hat = 1 | S = 0) = P(Y_hat = 1 | S = 1)\n",
        "\n",
        "#1) segment test dataset into sensitive and non sensitive\n",
        "X_pos = X_test[X_test['race']==1]\n",
        "X_neg = X_test[X_test['race']==0]\n",
        "\n",
        "y_pos = np.array(y_test[X_test['race']==1])\n",
        "y_neg = np.array(y_test[X_test['race']==0])\n",
        "\n",
        "col_X = ['age', 'c_charge_degree', 'score_text', 'sex',\n",
        "       'priors_count', 'days_b_screening_arrest', \n",
        "       'decile_score', 'days_in_jail', 'is_recid']\n",
        "\n",
        "X_pos = np.array(X_pos[col_X])\n",
        "X_neg = np.array(X_neg[col_X])\n",
        "\n",
        "#2) calculate Y_hat for neg & pos\n",
        "#recover M_nk\n",
        "N_pos, D = X_pos.shape # protected set\n",
        "N_neg, _ = X_neg.shape # non-protected set\n",
        "\n",
        "\n",
        "dists_pos = distances(X_pos, v, alpha_pos, N_pos, D, K)\n",
        "dists_neg = distances(X_neg, v, alpha_neg, N_neg, D, K)\n",
        "\n",
        "M_nk_pos = M_nk(dists_pos, N_pos, K)\n",
        "M_nk_neg = M_nk(dists_neg, N_neg, K)\n",
        "\n",
        "yhat_pos, lypos = Loss_y(M_nk_pos, y_pos, w, N_pos, K)\n",
        "yhat_neg, lyneg = Loss_y(M_nk_neg, y_neg, w, N_neg, K)\n",
        "\n",
        "#3) find y_hat = 1 for both neg and positive\n",
        "\"\"\"FINDING PARITY\"\"\"\n",
        "(len(yhat_neg[yhat_neg > 0.5])/len(yhat_neg), #for non-sensitive attribute #0.584070796460177\n",
        "  len(yhat_pos[yhat_pos > 0.5])/len(yhat_pos)) #for sensitive attribute #0.6409774436090225"
      ],
      "metadata": {
        "colab": {
          "base_uri": "https://localhost:8080/"
        },
        "id": "yq6bd6Ezui_r",
        "outputId": "eeb72637-bcf2-4241-a038-32f21ef03967"
      },
      "execution_count": 51,
      "outputs": [
        {
          "output_type": "execute_result",
          "data": {
            "text/plain": [
              "(0.584070796460177, 0.6409774436090225)"
            ]
          },
          "metadata": {},
          "execution_count": 51
        }
      ]
    },
    {
      "cell_type": "markdown",
      "source": [
        "#parity (eval #1)\n",
        "P(Yhat = 1 | sensitive attribute = 1) = 64.1%\n",
        "P(Yhat = 1 | sensitive attribute = 0) = 58.4%\n",
        "The algorithm is able to more accurately predict the protected group as y = 1 than the non protected group, meaning it is more likely to identify them as such."
      ],
      "metadata": {
        "id": "zRFrvp_2PqT7"
      }
    },
    {
      "cell_type": "code",
      "source": [
        "##evaluation metric 2: equality of odds\n",
        "\"\"\"EQUALITY OF ODDS\"\"\"\n",
        "\n",
        "odds_pos = yhat_pos\n",
        "odds_neg = yhat_neg\n",
        "#protected: y = 1, then y =0 \n",
        "print(len(y_pos[(odds_pos > 0.5) & (y_pos > 0.5)]) / len(y_pos[y_pos > 0.5]), len(y_pos[(odds_pos > 0.5) & (y_pos <= 0.5)]) / len(y_pos[y_pos <= 0.5]))\n",
        "#nonprotected: y = 1, then y =0 \n",
        "print(len(y_neg[(odds_neg > 0.5) & (y_neg > 0.5)]) / len(y_neg[y_neg > 0.5]), len(y_neg[(odds_neg > 0.5) & (y_neg <= 0.5)]) / len(y_neg[y_neg <= 0.5]))"
      ],
      "metadata": {
        "colab": {
          "base_uri": "https://localhost:8080/"
        },
        "id": "DWAtxKbY1xsl",
        "outputId": "aa1cf749-3574-4a93-f1c0-f2978a22f6f5"
      },
      "execution_count": 64,
      "outputs": [
        {
          "output_type": "stream",
          "name": "stdout",
          "text": [
            "0.6495412844036698 0.6319845857418112\n",
            "0.6535433070866141 0.5424528301886793\n"
          ]
        }
      ]
    },
    {
      "cell_type": "code",
      "source": [
        "len(y_neg[(odds_neg > 0.5) & (y_neg > 0.5)]) / len(y_neg[y_neg > 0.5]), len(y_neg[(odds_neg > 0.5) & (y_neg <= 0.5)]) / len(y_neg[y_neg <= 0.5])"
      ],
      "metadata": {
        "colab": {
          "base_uri": "https://localhost:8080/"
        },
        "id": "CIZJV-AwQyTa",
        "outputId": "b7c0d86c-78f8-4af2-af83-22165afe66e4"
      },
      "execution_count": 63,
      "outputs": [
        {
          "output_type": "execute_result",
          "data": {
            "text/plain": [
              "(0.6535433070866141, 0.5424528301886793)"
            ]
          },
          "metadata": {},
          "execution_count": 63
        }
      ]
    },
    {
      "cell_type": "markdown",
      "source": [
        "equality of odds (eval #2)\n",
        "For when true value of y = 0 the model predicts the sensitive group as y =1 63.2% of the time, and 54.2% accurately for the non-protected group\n",
        "\n",
        "For when y = 1, the model predicts the sensitive group as y=1 65% of the time, and 65% accurately for the non-protected group\n",
        "\n",
        "Given this information, we can see that the algorithm is more likely to predict the sensitive group as y =1 even when they are not indeed rescinded. It's also interesting to see that it predicts the sensitive group around the same likelihood regardless of their status. "
      ],
      "metadata": {
        "id": "MYGXJVy5P-wo"
      }
    },
    {
      "cell_type": "code",
      "source": [
        "\"\"\"evaluation metric 3: explainable discrimination\"\"\"\n",
        "col_X = ['age', 'c_charge_degree', 'score_text', 'sex',\n",
        "       'priors_count', 'days_b_screening_arrest', 'decile_score', 'days_in_jail']#, 'is_recid']\n",
        "#step 1) simulate X data for age, c_charge_degree, score_text, sex, priors_count, days_b_screening_arrest, decile_score, days_in_jail\n",
        "X_pos = X_test[X_test['race']==1]\n",
        "X_neg = X_test[X_test['race']==0]\n",
        "\n",
        "y_pos = np.array(y_test[X_test['race']==1])\n",
        "y_neg = np.array(y_test[X_test['race']==0])\n",
        "\n",
        "#col_X = ['race', 'age', 'c_charge_degree', 'score_text', 'sex','priors_count', 'days_b_screening_arrest', 'decile_score', 'days_in_jail'] \n",
        "\n",
        "#X_simulation = np.vstack([X_pos[col_X], X_neg[col_X]])\n",
        "#X_simulation[:,1:]\n",
        "\n",
        "#step 2) calculate yhat -- BUT have to recalculate distances & M_nk first!\n",
        "X_pos = np.array(X_pos[col_X])\n",
        "X_neg = np.array(X_neg[col_X])\n",
        "\n",
        "#2) calculate Y_hat for neg & pos\n",
        "#recover M_nk\n",
        "N_pos, D = X_pos.shape # protected set\n",
        "N_neg, _ = X_neg.shape # non-protected set\n",
        "\n",
        "\n",
        "dists_pos = distances(X_pos, v, alpha_pos, N_pos, D, K)\n",
        "dists_neg = distances(X_neg, v, alpha_neg, N_neg, D, K)\n",
        "\n",
        "M_nk_pos = M_nk(dists_pos, N_pos, K)\n",
        "M_nk_neg = M_nk(dists_neg, N_neg, K)\n",
        "\n",
        "yhat_pos, lypos = Loss_y(M_nk_pos, y_pos, w, N_pos, K)\n",
        "yhat_neg, lyneg = Loss_y(M_nk_neg, y_neg, w, N_neg, K)\n",
        "\n",
        "#step 3) calculate  # of yhat_pos[yhat_pos > 0.5] /yhat_pos and yhat_neg[yhat_neg > 0.5] /yhat_neg\n",
        "#len(yhat_pos[yhat_pos > 0.5]) / len(yhat_pos)\n",
        "#len(yhat_neg[yhat_neg > 0.5]) /len(yhat_neg)"
      ],
      "metadata": {
        "colab": {
          "base_uri": "https://localhost:8080/",
          "height": 235
        },
        "id": "1Oub8UGv38sV",
        "outputId": "987b1223-b7d7-46e4-aa32-c569145a46a1"
      },
      "execution_count": 30,
      "outputs": [
        {
          "output_type": "error",
          "ename": "TypeError",
          "evalue": "ignored",
          "traceback": [
            "\u001b[0;31m---------------------------------------------------------------------------\u001b[0m",
            "\u001b[0;31mTypeError\u001b[0m                                 Traceback (most recent call last)",
            "\u001b[0;32m<ipython-input-30-2c55b37fcf37>\u001b[0m in \u001b[0;36m<module>\u001b[0;34m\u001b[0m\n\u001b[1;32m      6\u001b[0m \u001b[0mX_neg\u001b[0m \u001b[0;34m=\u001b[0m \u001b[0;34m[\u001b[0m\u001b[0;34m]\u001b[0m \u001b[0;31m#TODO: fill in\u001b[0m\u001b[0;34m\u001b[0m\u001b[0;34m\u001b[0m\u001b[0m\n\u001b[1;32m      7\u001b[0m \u001b[0;31m#step 2) calculate yhat -- BUT have to recalculate distances & M_nk first!\u001b[0m\u001b[0;34m\u001b[0m\u001b[0;34m\u001b[0m\u001b[0;34m\u001b[0m\u001b[0m\n\u001b[0;32m----> 8\u001b[0;31m \u001b[0mX_pos\u001b[0m \u001b[0;34m=\u001b[0m \u001b[0mnp\u001b[0m\u001b[0;34m.\u001b[0m\u001b[0marray\u001b[0m\u001b[0;34m(\u001b[0m\u001b[0mX_pos\u001b[0m\u001b[0;34m[\u001b[0m\u001b[0mcol_X\u001b[0m\u001b[0;34m]\u001b[0m\u001b[0;34m)\u001b[0m\u001b[0;34m\u001b[0m\u001b[0;34m\u001b[0m\u001b[0m\n\u001b[0m\u001b[1;32m      9\u001b[0m \u001b[0mX_neg\u001b[0m \u001b[0;34m=\u001b[0m \u001b[0mnp\u001b[0m\u001b[0;34m.\u001b[0m\u001b[0marray\u001b[0m\u001b[0;34m(\u001b[0m\u001b[0mX_neg\u001b[0m\u001b[0;34m[\u001b[0m\u001b[0mcol_X\u001b[0m\u001b[0;34m]\u001b[0m\u001b[0;34m)\u001b[0m\u001b[0;34m\u001b[0m\u001b[0;34m\u001b[0m\u001b[0m\n\u001b[1;32m     10\u001b[0m \u001b[0;34m\u001b[0m\u001b[0m\n",
            "\u001b[0;31mTypeError\u001b[0m: list indices must be integers or slices, not list"
          ]
        }
      ]
    },
    {
      "cell_type": "code",
      "source": [
        "#cols=['race', 'age', 'c_charge_degree',\t'score_text',\t'sex'\t,'priors_count',\n",
        " #      'days_b_screening_arrest',\t'decile_score',\t'days_in_jail']\n",
        "X_pos = X_test[X_test['race']==1]\n",
        "X_neg = X_test[X_test['race']==0]\n",
        "\n",
        "y_pos = np.array(y_test[X_test['race']==1])\n",
        "y_neg = np.array(y_test[X_test['race']==0])\n",
        "\n",
        "col_X = ['race', 'age', 'c_charge_degree', 'score_text', 'sex',\n",
        "       'priors_count', 'days_b_screening_arrest', \n",
        "       'decile_score', 'days_in_jail'] \n",
        "\n",
        "X_simulation = np.vstack([X_pos[col_X], X_neg[col_X]])\n",
        "X_simulation[:,1:]"
      ],
      "metadata": {
        "colab": {
          "base_uri": "https://localhost:8080/"
        },
        "id": "eYmbGXAcw8XI",
        "outputId": "ae1fb7cb-e575-4a72-84ea-539c060d2f9e"
      },
      "execution_count": 40,
      "outputs": [
        {
          "output_type": "execute_result",
          "data": {
            "text/plain": [
              "array([[40.,  1., -1., ..., -1.,  3.,  0.],\n",
              "       [23.,  0.,  0., ..., -1.,  7.,  0.],\n",
              "       [29.,  0., -1., ..., -1.,  2.,  1.],\n",
              "       ...,\n",
              "       [61.,  1., -1., ..., -4.,  1.,  0.],\n",
              "       [48.,  0., -1., ..., -1.,  1.,  1.],\n",
              "       [27.,  0., -1., ..., -1.,  3.,  0.]])"
            ]
          },
          "metadata": {},
          "execution_count": 40
        }
      ]
    },
    {
      "cell_type": "code",
      "source": [
        "\"\"\"evaluation metric 4: calibration\"\"\"\n",
        "\n",
        "calibration_pos = len(yhat_pos[((yhat_pos > 0.5) & (y_pos > 0.5)) |\n",
        "    ((yhat_pos <= 0.5) & (y_pos <= 0.5))])/len(yhat_pos)\n",
        "calibration_neg = len(yhat_neg[((yhat_neg > 0.5) & (y_neg > 0.5)) |\n",
        "    ((yhat_neg <= 0.5) & (y_neg <= 0.5))])/len(yhat_neg)\n",
        "calibration_pos, calibration_neg   "
      ],
      "metadata": {
        "id": "4fSVecH66dgI",
        "colab": {
          "base_uri": "https://localhost:8080/"
        },
        "outputId": "9c5a8fb1-041c-46a8-ca17-91bfb14c0cdd"
      },
      "execution_count": 54,
      "outputs": [
        {
          "output_type": "execute_result",
          "data": {
            "text/plain": [
              "(0.5122180451127819, 0.5309734513274337)"
            ]
          },
          "metadata": {},
          "execution_count": 54
        }
      ]
    },
    {
      "cell_type": "markdown",
      "source": [
        "#eval 4: calibration\n",
        "The protected group is 51.2% calibrated, and the non protected group is 53.1% calibrated -- meaning the model is less likely to predict the protected group correctly but by a very small margin"
      ],
      "metadata": {
        "id": "6PEJtp6qSzHm"
      }
    },
    {
      "cell_type": "code",
      "source": [],
      "metadata": {
        "id": "jX6F_C_j5_3D"
      },
      "execution_count": null,
      "outputs": []
    }
  ],
  "metadata": {
    "colab": {
      "provenance": []
    },
    "kernelspec": {
      "display_name": "Python 3",
      "name": "python3"
    },
    "language_info": {
      "name": "python"
    }
  },
  "nbformat": 4,
  "nbformat_minor": 0
}