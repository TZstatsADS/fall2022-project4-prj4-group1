{
  "nbformat": 4,
  "nbformat_minor": 0,
  "metadata": {
    "colab": {
      "provenance": []
    },
    "kernelspec": {
      "name": "python3",
      "display_name": "Python 3"
    },
    "language_info": {
      "name": "python"
    }
  },
  "cells": [
    {
      "cell_type": "code",
      "execution_count": 1,
      "metadata": {
        "id": "vQyJV6MMqOBB"
      },
      "outputs": [],
      "source": [
        "import numpy as np\n",
        "from numpy.core.fromnumeric import transpose\n",
        "data = np.array(np.random.uniform(size=50))\n",
        "data = data.reshape(10,5)\n",
        "##add new column\n",
        "data[:,-2] = [0,0,0,0,1,1,1,1,0,1]\n",
        "X_s = data[np.array(np.where(data[:,-2]==1))[0].flatten()][:,:-1]\n",
        "X_ns = data[np.array(np.where(data[:,-2]==0))[0].flatten()][:,:-1]\n",
        "X_s\n",
        "y_sensitive = data[np.array(np.where(data[:,-2]==1))[0].flatten(), -1]\n",
        "y_nonsensitive =data[np.array(np.where(data[:,-2]==0))[0].flatten(), -1]\n",
        "y_sensitive\n",
        "\n",
        "X = data[:,:-2]\n",
        "Z = data[:,-2]\n",
        "y = data[:,-1]\n",
        "\n",
        "\n"
      ]
    },
    {
      "cell_type": "code",
      "source": [
        "from numpy.core.fromnumeric import transpose\n",
        "first_system = np.matmul(transpose(Z - Z.mean()), X)\n",
        "first_system"
      ],
      "metadata": {
        "colab": {
          "base_uri": "https://localhost:8080/"
        },
        "id": "HkxfoFVUuzoP",
        "outputId": "85b9b3cc-3ebe-4645-d29f-c549e6368de7"
      },
      "execution_count": 2,
      "outputs": [
        {
          "output_type": "execute_result",
          "data": {
            "text/plain": [
              "array([0.58321574, 0.7571967 , 0.5751372 ])"
            ]
          },
          "metadata": {},
          "execution_count": 2
        }
      ]
    },
    {
      "cell_type": "code",
      "source": [
        "transpose(Z - Z.mean())"
      ],
      "metadata": {
        "colab": {
          "base_uri": "https://localhost:8080/"
        },
        "id": "JEds2yNJuzww",
        "outputId": "e76d7136-3e8e-4ec1-e67b-46b498ae4ea8"
      },
      "execution_count": 3,
      "outputs": [
        {
          "output_type": "execute_result",
          "data": {
            "text/plain": [
              "array([-0.5, -0.5, -0.5, -0.5,  0.5,  0.5,  0.5,  0.5, -0.5,  0.5])"
            ]
          },
          "metadata": {},
          "execution_count": 3
        }
      ]
    },
    {
      "cell_type": "code",
      "source": [
        "class SVM():\n",
        "  def __init__(self, N, k):\n",
        "    self.theta = np.array(np.random.uniform(size=k)).reshape(-1, 1)\n",
        "    self.phi = np.array(np.random.uniform(size=N))\n",
        "  \n",
        "  def covariance_upper_constraint(self, X, Z, c):\n",
        "    return ((-1) * np.matmul(np.matmul(transpose(Z - Z.mean()), X), self.theta)) + c\n",
        "\n",
        "  def covariance_lower_constraint(self, X, Z, c):\n",
        "    print('X: ',X)\n",
        "    print('Z: ',Z)\n",
        "    print('c: ',c)\n",
        "    return (np.matmul(np.matmul(transpose(Z - Z.mean()), X), self.theta)) + c   \n",
        "  \n",
        "  def loss_fn(self, C):\n",
        "    return LA.norm(self.theta,2) + sum(self.phi) * C\n"
      ],
      "metadata": {
        "id": "J8XSdOMoTnfo"
      },
      "execution_count": 5,
      "outputs": []
    },
    {
      "cell_type": "code",
      "source": [
        "#svm.covariance_upper_constraint(Z,X,0.8)\n",
        "#((-1) * np.matmul(np.matmul(transpose(Z - Z.mean()), X), svm.theta)) + 0.8\n",
        "np.matmul(np.matmul(transpose(Z - Z.mean()), X), svm.theta)"
      ],
      "metadata": {
        "colab": {
          "base_uri": "https://localhost:8080/"
        },
        "id": "m1JKpWzQbc3f",
        "outputId": "ad4e76b8-1c26-4602-9aca-f312d414e2fe"
      },
      "execution_count": 38,
      "outputs": [
        {
          "output_type": "execute_result",
          "data": {
            "text/plain": [
              "array([-0.17500339])"
            ]
          },
          "metadata": {},
          "execution_count": 38
        }
      ]
    },
    {
      "cell_type": "code",
      "source": [
        "svm.covariance_upper_constraint(X, Z, 0.8)"
      ],
      "metadata": {
        "colab": {
          "base_uri": "https://localhost:8080/"
        },
        "id": "fwPp50aQdJ0n",
        "outputId": "0e04e13b-230c-44c6-dc8c-8a8b92747740"
      },
      "execution_count": 51,
      "outputs": [
        {
          "output_type": "execute_result",
          "data": {
            "text/plain": [
              "array([0.74777136])"
            ]
          },
          "metadata": {},
          "execution_count": 51
        }
      ]
    },
    {
      "cell_type": "code",
      "source": [
        "constraint(X, Z, 0.8, svm.theta, False)"
      ],
      "metadata": {
        "colab": {
          "base_uri": "https://localhost:8080/"
        },
        "id": "3su6wNr2iwsN",
        "outputId": "93b0706f-fd0d-4bc5-bea3-7a81dc0e3885"
      },
      "execution_count": 67,
      "outputs": [
        {
          "output_type": "stream",
          "name": "stdout",
          "text": [
            "X:  [[0.64795095 0.14951949 0.14875985]\n",
            " [0.48253649 0.67684775 0.60495505]\n",
            " [0.29982938 0.39817412 0.00229019]\n",
            " [0.22921604 0.39389235 0.95443168]\n",
            " [0.77636584 0.46861933 0.42288006]\n",
            " [0.62932365 0.46939001 0.02835344]\n",
            " [0.61559463 0.0338504  0.56138914]\n",
            " [0.55820798 0.78631    0.06884757]\n",
            " [0.07169249 0.62316738 0.99080872]\n",
            " [0.15717875 0.96518288 0.3829214 ]]\n",
            "Z:  [0. 0. 0. 0. 1. 1. 1. 1. 0. 1.]\n",
            "c:  0.8\n",
            "theta:  [[0.06811769]\n",
            " [0.58247547]\n",
            " [0.00303955]]\n"
          ]
        },
        {
          "output_type": "execute_result",
          "data": {
            "text/plain": [
              "array([0.6273312])"
            ]
          },
          "metadata": {},
          "execution_count": 67
        }
      ]
    },
    {
      "cell_type": "code",
      "source": [
        "#https://docs.scipy.org/doc/scipy/reference/generated/scipy.optimize.minimize.html\n",
        "#https://docs.scipy.org/doc/scipy/reference/generated/scipy.optimize.minimize.html#scipy.optimize.minimize\n",
        "#https://scipy-lectures.org/advanced/mathematical_optimization/auto_examples/plot_non_bounds_constraints.html\n",
        "import scipy\n",
        "from scipy.optimize import minimize\n",
        "from numpy import linalg as LA\n",
        "\n",
        "k=3\n",
        "N = 10\n",
        "def upper_theta_constraint(params, X, Z, c, k):\n",
        "  theta = params[:k]\n",
        "  #print('X: ',X.shape)\n",
        "  #print('Z: ',Z.shape)\n",
        "  #print('c: ',c)\n",
        "  #print('theta: ', theta.shape)\n",
        "  #if flag: print('here')\n",
        "  return ((-1/len(Z)) * np.matmul(np.matmul(transpose(Z - Z.mean()), X), theta)) + c\n",
        "\n",
        "def lower_theta_constraint(params, X, Z, c, k):\n",
        "  theta = params[:k]\n",
        "  #print('X: ',X.shape)\n",
        "  #print('Z: ',Z.shape)\n",
        "  #print('c: ',c)\n",
        "  #print('theta: ', theta.shape)\n",
        "  #if flag: print('here')\n",
        "  return ((np.matmul(np.matmul(transpose(Z - Z.mean()), X), theta))/len(Z)) + c  \n",
        "\n",
        "def svm_loss(params,C,k):\n",
        "  theta = params[:k]\n",
        "  phi = params[k:]\n",
        "  return LA.norm(theta,2) + sum(phi) * C\n",
        "\n",
        "def phi_constraint(params, x, y, k):\n",
        "  theta = params[:k]\n",
        "  phi = params[k:]\n",
        "\n",
        "  return\n",
        "\n",
        "svm = SVM(N,k)\n",
        "print(svm.theta)\n",
        "scipy.optimize.minimize(svm_loss, args=(0.9, k), x0=np.append(svm.theta.flatten(), svm.phi.flatten()),\n",
        "                        method='SLSQP', \n",
        "                        constraints=({'type': 'ineq', 'fun': upper_theta_constraint, 'args': (X, Z , 0.8, k)},\n",
        "                                     {'type': 'ineq', 'fun': lower_theta_constraint, 'args': (X, Z , 0.8, k)}),\n",
        "                        options={\"maxiter\": 100000})\n",
        "###TODO: these numbers feel a little too high -- am I passing in the right x0??\n",
        "##TODO: phi constraint???? how to write this?"
      ],
      "metadata": {
        "colab": {
          "base_uri": "https://localhost:8080/"
        },
        "id": "eBNB33dNZbiR",
        "outputId": "a61fef1a-6872-4c23-945b-eb00e8aa75bd"
      },
      "execution_count": 7,
      "outputs": [
        {
          "output_type": "stream",
          "name": "stdout",
          "text": [
            "[[0.84536759]\n",
            " [0.38486883]\n",
            " [0.24819701]]\n"
          ]
        },
        {
          "output_type": "execute_result",
          "data": {
            "text/plain": [
              "     fun: -145874740.8709746\n",
              "     jac: array([0., 0., 0., 0., 0., 0., 0., 0., 0., 0., 0., 0., 0.])\n",
              " message: 'Optimization terminated successfully'\n",
              "    nfev: 264\n",
              "     nit: 18\n",
              "    njev: 18\n",
              "  status: 0\n",
              " success: True\n",
              "       x: array([ -4153636.41056982,   1813821.55619263,   1823995.57480676,\n",
              "       -16751151.97215278, -16751151.95360281, -16751151.96178035,\n",
              "       -16751152.65289018, -16751152.83606847, -16751152.4153125 ,\n",
              "       -16751150.82807123, -16751160.48950713, -16751160.43116862,\n",
              "       -16751163.05594579])"
            ]
          },
          "metadata": {},
          "execution_count": 7
        }
      ]
    },
    {
      "cell_type": "code",
      "source": [
        "k=3\n",
        "N = 10\n",
        "def upper_theta_constraint(theta, X, Z, c, k):\n",
        "  #theta = params[:k]\n",
        "  #print('X: ',X.shape)\n",
        "  #print('Z: ',Z.shape)\n",
        "  #print('c: ',c)\n",
        "  #print('theta: ', theta.shape)\n",
        "  #if flag: print('here')\n",
        "  return ((-1) * np.matmul(np.matmul(transpose(Z - Z.mean()), X), theta)) + c\n",
        "\n",
        "def lower_theta_constraint(theta, X, Z, c, k):\n",
        "  #theta = params[:k]\n",
        "  #print('X: ',X.shape)\n",
        "  #print('Z: ',Z.shape)\n",
        "  #print('c: ',c)\n",
        "  #print('theta: ', theta.shape)\n",
        "  #if flag: print('here')\n",
        "  return (np.matmul(np.matmul(transpose(Z - Z.mean()), X), theta)) + c  \n",
        "\n",
        "def svm_loss(theta, phi,C,k):\n",
        "  return LA.norm(theta,2) + sum(phi) * C\n",
        "\n",
        "def phi_constraint(params, x, y, k):\n",
        "  theta = params[:k]\n",
        "  phi = params[k:]\n",
        "\n",
        "  return\n",
        "\n",
        "svm = SVM(N,k)\n",
        "print(svm.theta)\n",
        "scipy.optimize.minimize(svm_loss, args=(svm.phi, 0.9, k), x0=svm.theta,\n",
        "                        method='SLSQP', \n",
        "                        constraints=({'type': 'ineq', 'fun': upper_theta_constraint, 'args': (X, Z , 0.8, k)},\n",
        "                                     {'type': 'ineq', 'fun': lower_theta_constraint, 'args': (X, Z , 0.8, k)}),\n",
        "                        options={\"maxiter\": 100000})"
      ],
      "metadata": {
        "colab": {
          "base_uri": "https://localhost:8080/"
        },
        "id": "og0qI2qMuvB-",
        "outputId": "4126ffb1-a0bc-4b68-c731-9c1cbe88a310"
      },
      "execution_count": 101,
      "outputs": [
        {
          "output_type": "stream",
          "name": "stdout",
          "text": [
            "[[0.13650027]\n",
            " [0.93175268]\n",
            " [0.00955904]]\n"
          ]
        },
        {
          "output_type": "execute_result",
          "data": {
            "text/plain": [
              "     fun: 4.697482699971658\n",
              "     jac: array([0.14569044, 0.98739517, 0.06189585])\n",
              " message: 'Optimization terminated successfully'\n",
              "    nfev: 28\n",
              "     nit: 5\n",
              "    njev: 5\n",
              "  status: 0\n",
              " success: True\n",
              "       x: array([8.20579576e-05, 5.60245250e-04, 5.23616096e-06])"
            ]
          },
          "metadata": {},
          "execution_count": 101
        }
      ]
    },
    {
      "cell_type": "code",
      "source": [
        "np.append(svm.theta.flatten(), svm.phi.flatten())"
      ],
      "metadata": {
        "colab": {
          "base_uri": "https://localhost:8080/"
        },
        "id": "_xbS1pjbpnxS",
        "outputId": "f630e897-d5ba-4bf1-f399-9f3ec3c0b6cb"
      },
      "execution_count": 91,
      "outputs": [
        {
          "output_type": "execute_result",
          "data": {
            "text/plain": [
              "array([0.77822744, 0.02718473, 0.37207802, 0.73303847, 0.99847787,\n",
              "       0.56687995, 0.17478334, 0.30383969, 0.9056702 , 0.86278665,\n",
              "       0.78579081, 0.58692222, 0.33628126])"
            ]
          },
          "metadata": {},
          "execution_count": 91
        }
      ]
    },
    {
      "cell_type": "code",
      "source": [
        "svm.theta.flatten().np.concatenate(svm.phi.flatten())"
      ],
      "metadata": {
        "colab": {
          "base_uri": "https://localhost:8080/",
          "height": 166
        },
        "id": "C-YNxpMvk2DD",
        "outputId": "01cb24c9-75a5-4314-fe3d-a6e1bed3598b"
      },
      "execution_count": 90,
      "outputs": [
        {
          "output_type": "error",
          "ename": "AttributeError",
          "evalue": "ignored",
          "traceback": [
            "\u001b[0;31m---------------------------------------------------------------------------\u001b[0m",
            "\u001b[0;31mAttributeError\u001b[0m                            Traceback (most recent call last)",
            "\u001b[0;32m<ipython-input-90-51a21dea1ff7>\u001b[0m in \u001b[0;36m<module>\u001b[0;34m\u001b[0m\n\u001b[0;32m----> 1\u001b[0;31m \u001b[0msvm\u001b[0m\u001b[0;34m.\u001b[0m\u001b[0mtheta\u001b[0m\u001b[0;34m.\u001b[0m\u001b[0mflatten\u001b[0m\u001b[0;34m(\u001b[0m\u001b[0;34m)\u001b[0m\u001b[0;34m.\u001b[0m\u001b[0mnp\u001b[0m\u001b[0;34m.\u001b[0m\u001b[0mconcatenate\u001b[0m\u001b[0;34m(\u001b[0m\u001b[0msvm\u001b[0m\u001b[0;34m.\u001b[0m\u001b[0mphi\u001b[0m\u001b[0;34m.\u001b[0m\u001b[0mflatten\u001b[0m\u001b[0;34m(\u001b[0m\u001b[0;34m)\u001b[0m\u001b[0;34m)\u001b[0m\u001b[0;34m\u001b[0m\u001b[0;34m\u001b[0m\u001b[0m\n\u001b[0m",
            "\u001b[0;31mAttributeError\u001b[0m: 'numpy.ndarray' object has no attribute 'np'"
          ]
        }
      ]
    },
    {
      "cell_type": "code",
      "source": [
        "for i in svm.theta :\n",
        "  print(i*i)\n",
        "0.55474208  + 0.06968351\n",
        "np.random.uniform(size=2)"
      ],
      "metadata": {
        "colab": {
          "base_uri": "https://localhost:8080/"
        },
        "id": "I-bqdt6LWNQE",
        "outputId": "5fbeded3-0877-4bb1-a879-b428e2217538"
      },
      "execution_count": 20,
      "outputs": [
        {
          "output_type": "stream",
          "name": "stdout",
          "text": [
            "[0.55474208]\n",
            "[0.06968351]\n"
          ]
        },
        {
          "output_type": "execute_result",
          "data": {
            "text/plain": [
              "array([0.66614572, 0.28922723])"
            ]
          },
          "metadata": {},
          "execution_count": 20
        }
      ]
    },
    {
      "cell_type": "code",
      "source": [
        "from numpy import linalg as LA\n",
        "svm = SVM(10,2)\n",
        "LA.norm(svm.theta,2)"
      ],
      "metadata": {
        "colab": {
          "base_uri": "https://localhost:8080/"
        },
        "id": "uEbfN8yMT-cF",
        "outputId": "d3dba142-fe9b-4c18-984c-5ae294f1da55"
      },
      "execution_count": 23,
      "outputs": [
        {
          "output_type": "execute_result",
          "data": {
            "text/plain": [
              "1.0842882373007432"
            ]
          },
          "metadata": {},
          "execution_count": 23
        }
      ]
    }
  ]
}