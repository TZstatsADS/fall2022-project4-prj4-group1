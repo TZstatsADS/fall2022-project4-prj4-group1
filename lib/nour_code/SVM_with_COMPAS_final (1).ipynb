{
 "cells": [
  {
   "cell_type": "markdown",
   "metadata": {
    "id": "YJ5CrHD-LOXB"
   },
   "source": [
    "\n",
    "This notebook trains a logistic regression model based on fairness constraints outlined in this paper: https://arxiv.org/pdf/1507.05259.pdf on COMPAS data, using race as the sensitive attribute"
   ]
  },
  {
   "cell_type": "code",
   "execution_count": 8,
   "metadata": {
    "id": "eTSRBbXMTGjB"
   },
   "outputs": [],
   "source": [
    "import numpy as np\n",
    "from numpy.core.fromnumeric import transpose\n",
    "import pandas as pd"
   ]
  },
  {
   "cell_type": "code",
   "execution_count": 9,
   "metadata": {
    "colab": {
     "base_uri": "https://localhost:8080/",
     "height": 461
    },
    "id": "4jHuk7XcTtY3",
    "outputId": "2410d4ca-4781-44cc-8732-01d46fdb8300"
   },
   "outputs": [
    {
     "data": {
      "text/html": [
       "<div>\n",
       "<style scoped>\n",
       "    .dataframe tbody tr th:only-of-type {\n",
       "        vertical-align: middle;\n",
       "    }\n",
       "\n",
       "    .dataframe tbody tr th {\n",
       "        vertical-align: top;\n",
       "    }\n",
       "\n",
       "    .dataframe thead th {\n",
       "        text-align: right;\n",
       "    }\n",
       "</style>\n",
       "<table border=\"1\" class=\"dataframe\">\n",
       "  <thead>\n",
       "    <tr style=\"text-align: right;\">\n",
       "      <th></th>\n",
       "      <th>Unnamed: 0</th>\n",
       "      <th>age</th>\n",
       "      <th>c_charge_degree</th>\n",
       "      <th>race</th>\n",
       "      <th>score_text</th>\n",
       "      <th>sex</th>\n",
       "      <th>priors_count</th>\n",
       "      <th>days_b_screening_arrest</th>\n",
       "      <th>decile_score</th>\n",
       "      <th>is_recid</th>\n",
       "      <th>two_year_recid</th>\n",
       "      <th>c_jail_in</th>\n",
       "      <th>c_jail_out</th>\n",
       "      <th>days_in_jail</th>\n",
       "    </tr>\n",
       "  </thead>\n",
       "  <tbody>\n",
       "    <tr>\n",
       "      <th>0</th>\n",
       "      <td>1</td>\n",
       "      <td>34</td>\n",
       "      <td>0</td>\n",
       "      <td>1</td>\n",
       "      <td>-1</td>\n",
       "      <td>1</td>\n",
       "      <td>0</td>\n",
       "      <td>-1.0</td>\n",
       "      <td>3</td>\n",
       "      <td>1</td>\n",
       "      <td>1</td>\n",
       "      <td>2013-01-26 03:45:27</td>\n",
       "      <td>2013-02-05 05:36:53</td>\n",
       "      <td>10</td>\n",
       "    </tr>\n",
       "    <tr>\n",
       "      <th>1</th>\n",
       "      <td>2</td>\n",
       "      <td>24</td>\n",
       "      <td>0</td>\n",
       "      <td>1</td>\n",
       "      <td>-1</td>\n",
       "      <td>1</td>\n",
       "      <td>4</td>\n",
       "      <td>-1.0</td>\n",
       "      <td>4</td>\n",
       "      <td>1</td>\n",
       "      <td>1</td>\n",
       "      <td>2013-04-13 04:58:34</td>\n",
       "      <td>2013-04-14 07:02:04</td>\n",
       "      <td>1</td>\n",
       "    </tr>\n",
       "    <tr>\n",
       "      <th>2</th>\n",
       "      <td>6</td>\n",
       "      <td>41</td>\n",
       "      <td>0</td>\n",
       "      <td>0</td>\n",
       "      <td>0</td>\n",
       "      <td>1</td>\n",
       "      <td>14</td>\n",
       "      <td>-1.0</td>\n",
       "      <td>6</td>\n",
       "      <td>1</td>\n",
       "      <td>1</td>\n",
       "      <td>2014-02-18 05:08:24</td>\n",
       "      <td>2014-02-24 12:18:30</td>\n",
       "      <td>6</td>\n",
       "    </tr>\n",
       "    <tr>\n",
       "      <th>3</th>\n",
       "      <td>8</td>\n",
       "      <td>39</td>\n",
       "      <td>1</td>\n",
       "      <td>0</td>\n",
       "      <td>-1</td>\n",
       "      <td>0</td>\n",
       "      <td>0</td>\n",
       "      <td>-1.0</td>\n",
       "      <td>1</td>\n",
       "      <td>0</td>\n",
       "      <td>0</td>\n",
       "      <td>2014-03-15 05:35:34</td>\n",
       "      <td>2014-03-18 04:28:46</td>\n",
       "      <td>2</td>\n",
       "    </tr>\n",
       "    <tr>\n",
       "      <th>4</th>\n",
       "      <td>10</td>\n",
       "      <td>27</td>\n",
       "      <td>0</td>\n",
       "      <td>0</td>\n",
       "      <td>-1</td>\n",
       "      <td>1</td>\n",
       "      <td>0</td>\n",
       "      <td>-1.0</td>\n",
       "      <td>4</td>\n",
       "      <td>0</td>\n",
       "      <td>0</td>\n",
       "      <td>2013-11-25 06:31:06</td>\n",
       "      <td>2013-11-26 08:26:57</td>\n",
       "      <td>1</td>\n",
       "    </tr>\n",
       "  </tbody>\n",
       "</table>\n",
       "</div>"
      ],
      "text/plain": [
       "   Unnamed: 0  age  c_charge_degree  race  score_text  sex  priors_count  \\\n",
       "0           1   34                0     1          -1    1             0   \n",
       "1           2   24                0     1          -1    1             4   \n",
       "2           6   41                0     0           0    1            14   \n",
       "3           8   39                1     0          -1    0             0   \n",
       "4          10   27                0     0          -1    1             0   \n",
       "\n",
       "   days_b_screening_arrest  decile_score  is_recid  two_year_recid  \\\n",
       "0                     -1.0             3         1               1   \n",
       "1                     -1.0             4         1               1   \n",
       "2                     -1.0             6         1               1   \n",
       "3                     -1.0             1         0               0   \n",
       "4                     -1.0             4         0               0   \n",
       "\n",
       "             c_jail_in           c_jail_out  days_in_jail  \n",
       "0  2013-01-26 03:45:27  2013-02-05 05:36:53            10  \n",
       "1  2013-04-13 04:58:34  2013-04-14 07:02:04             1  \n",
       "2  2014-02-18 05:08:24  2014-02-24 12:18:30             6  \n",
       "3  2014-03-15 05:35:34  2014-03-18 04:28:46             2  \n",
       "4  2013-11-25 06:31:06  2013-11-26 08:26:57             1  "
      ]
     },
     "execution_count": 9,
     "metadata": {},
     "output_type": "execute_result"
    }
   ],
   "source": [
    "df = pd.read_csv('COMPAS_preprocessed.csv')\n",
    "df.head(5)"
   ]
  },
  {
   "cell_type": "code",
   "execution_count": 10,
   "metadata": {
    "colab": {
     "base_uri": "https://localhost:8080/",
     "height": 270
    },
    "id": "9Z06N5yAT2cR",
    "outputId": "c2861fe8-61e5-4d4a-a3b5-86e8dd4611ee"
   },
   "outputs": [
    {
     "data": {
      "text/html": [
       "<div>\n",
       "<style scoped>\n",
       "    .dataframe tbody tr th:only-of-type {\n",
       "        vertical-align: middle;\n",
       "    }\n",
       "\n",
       "    .dataframe tbody tr th {\n",
       "        vertical-align: top;\n",
       "    }\n",
       "\n",
       "    .dataframe thead th {\n",
       "        text-align: right;\n",
       "    }\n",
       "</style>\n",
       "<table border=\"1\" class=\"dataframe\">\n",
       "  <thead>\n",
       "    <tr style=\"text-align: right;\">\n",
       "      <th></th>\n",
       "      <th>age</th>\n",
       "      <th>c_charge_degree</th>\n",
       "      <th>race</th>\n",
       "      <th>score_text</th>\n",
       "      <th>sex</th>\n",
       "      <th>priors_count</th>\n",
       "      <th>days_b_screening_arrest</th>\n",
       "      <th>decile_score</th>\n",
       "      <th>is_recid</th>\n",
       "      <th>two_year_recid</th>\n",
       "      <th>days_in_jail</th>\n",
       "    </tr>\n",
       "  </thead>\n",
       "  <tbody>\n",
       "    <tr>\n",
       "      <th>0</th>\n",
       "      <td>34</td>\n",
       "      <td>0</td>\n",
       "      <td>1</td>\n",
       "      <td>-1</td>\n",
       "      <td>1</td>\n",
       "      <td>0</td>\n",
       "      <td>-1.0</td>\n",
       "      <td>3</td>\n",
       "      <td>1</td>\n",
       "      <td>1</td>\n",
       "      <td>10</td>\n",
       "    </tr>\n",
       "    <tr>\n",
       "      <th>1</th>\n",
       "      <td>24</td>\n",
       "      <td>0</td>\n",
       "      <td>1</td>\n",
       "      <td>-1</td>\n",
       "      <td>1</td>\n",
       "      <td>4</td>\n",
       "      <td>-1.0</td>\n",
       "      <td>4</td>\n",
       "      <td>1</td>\n",
       "      <td>1</td>\n",
       "      <td>1</td>\n",
       "    </tr>\n",
       "    <tr>\n",
       "      <th>2</th>\n",
       "      <td>41</td>\n",
       "      <td>0</td>\n",
       "      <td>0</td>\n",
       "      <td>0</td>\n",
       "      <td>1</td>\n",
       "      <td>14</td>\n",
       "      <td>-1.0</td>\n",
       "      <td>6</td>\n",
       "      <td>1</td>\n",
       "      <td>1</td>\n",
       "      <td>6</td>\n",
       "    </tr>\n",
       "    <tr>\n",
       "      <th>3</th>\n",
       "      <td>39</td>\n",
       "      <td>1</td>\n",
       "      <td>0</td>\n",
       "      <td>-1</td>\n",
       "      <td>0</td>\n",
       "      <td>0</td>\n",
       "      <td>-1.0</td>\n",
       "      <td>1</td>\n",
       "      <td>0</td>\n",
       "      <td>0</td>\n",
       "      <td>2</td>\n",
       "    </tr>\n",
       "    <tr>\n",
       "      <th>4</th>\n",
       "      <td>27</td>\n",
       "      <td>0</td>\n",
       "      <td>0</td>\n",
       "      <td>-1</td>\n",
       "      <td>1</td>\n",
       "      <td>0</td>\n",
       "      <td>-1.0</td>\n",
       "      <td>4</td>\n",
       "      <td>0</td>\n",
       "      <td>0</td>\n",
       "      <td>1</td>\n",
       "    </tr>\n",
       "  </tbody>\n",
       "</table>\n",
       "</div>"
      ],
      "text/plain": [
       "   age  c_charge_degree  race  score_text  sex  priors_count  \\\n",
       "0   34                0     1          -1    1             0   \n",
       "1   24                0     1          -1    1             4   \n",
       "2   41                0     0           0    1            14   \n",
       "3   39                1     0          -1    0             0   \n",
       "4   27                0     0          -1    1             0   \n",
       "\n",
       "   days_b_screening_arrest  decile_score  is_recid  two_year_recid  \\\n",
       "0                     -1.0             3         1               1   \n",
       "1                     -1.0             4         1               1   \n",
       "2                     -1.0             6         1               1   \n",
       "3                     -1.0             1         0               0   \n",
       "4                     -1.0             4         0               0   \n",
       "\n",
       "   days_in_jail  \n",
       "0            10  \n",
       "1             1  \n",
       "2             6  \n",
       "3             2  \n",
       "4             1  "
      ]
     },
     "execution_count": 10,
     "metadata": {},
     "output_type": "execute_result"
    }
   ],
   "source": [
    "cols =  ['age', 'c_charge_degree', 'race', 'score_text', 'sex',\n",
    "       'priors_count', 'days_b_screening_arrest', 'decile_score', 'is_recid',\n",
    "       'two_year_recid', 'days_in_jail']\n",
    "df = df[cols]\n",
    "df.head(5)"
   ]
  },
  {
   "cell_type": "code",
   "execution_count": 11,
   "metadata": {
    "id": "SNwURvUIUF5y"
   },
   "outputs": [],
   "source": [
    "from sklearn.model_selection import train_test_split\n",
    "from sklearn import preprocessing\n",
    "col_X = ['age', 'c_charge_degree', 'score_text', 'sex',\n",
    "       'priors_count', 'days_b_screening_arrest', 'decile_score', 'is_recid', \n",
    "        'days_in_jail']\n",
    "X = df[col_X]\n",
    "Z = df['race']\n",
    "y = df['two_year_recid']\n",
    "X_train, X_test, Z_train, Z_test, y_train, y_test = train_test_split( X, Z, y, test_size=0.33, random_state=42)"
   ]
  },
  {
   "cell_type": "markdown",
   "metadata": {
    "id": "9PdicumGLWkL"
   },
   "source": [
    "We've imported our dataset, and we only select the columns we need, as well as our target variable: two_year_recid Feature seelction is based on this notebook: https://github.com/propublica/compas-analysis/blob/master/Compas%20Analysis.ipynb"
   ]
  },
  {
   "cell_type": "code",
   "execution_count": 12,
   "metadata": {
    "id": "OBt5lP1U6WqZ"
   },
   "outputs": [],
   "source": [
    "scaler_train = preprocessing.StandardScaler().fit(X_train)\n",
    "scaler_test = preprocessing.StandardScaler().fit(X_test)"
   ]
  },
  {
   "cell_type": "markdown",
   "metadata": {
    "id": "5Gin_jABLih8"
   },
   "source": [
    "We use scikit learn's framework for optimization: https://docs.scipy.org/doc/scipy/reference/generated/scipy.optimize.minimize.html https://docs.scipy.org/doc/scipy/reference/generated/scipy.optimize.minimize.html#scipy.optimize.minimize https://scipy-lectures.org/advanced/mathematical_optimization/auto_examples/plot_non_bounds_constraints.html\n",
    "\n",
    "Each of the constraints required for the framework to work needs to be programmed s.t. >= 0 for it to be true."
   ]
  },
  {
   "cell_type": "code",
   "execution_count": 13,
   "metadata": {
    "id": "2kVy7GliUwl8"
   },
   "outputs": [],
   "source": [
    "import scipy\n",
    "from scipy.optimize import minimize\n",
    "from numpy import linalg as LA\n",
    "\n",
    "k = X_train.shape[1]\n",
    "N = X_train.shape[0]\n",
    "\n",
    "#equation 9 from paper\n",
    "def upper_theta_constraint(params, X, Z, c, k):\n",
    "    theta = params[:k]\n",
    "    return ((-1/len(Z)) * np.matmul(np.matmul(transpose(Z - Z.mean()), X), theta)) + c\n",
    "\n",
    "def lower_theta_constraint(params, X, Z, c, k):\n",
    "    theta = params[:k]\n",
    "    return ((np.matmul(np.matmul(transpose(Z - Z.mean()), X), theta))/len(Z)) + c  \n",
    "\n",
    "def svm_loss(params, X, y, C, k):\n",
    "    theta = params[:k]\n",
    "    phi = params[k:]\n",
    "    y_hat = y * np.dot(X,theta) \n",
    "    y_hat = np.maximum(np.zeros_like(y_hat), (1-y_hat)) \n",
    "    \n",
    "    return C*sum(y_hat)\n",
    "\n",
    "def phi_constraint(params,k):\n",
    "  #theta = params[:k]\n",
    "    phi = params[k:]\n",
    "\n",
    "    return phi \n",
    "\n",
    "def phi_constraint2(params, k, y , X):\n",
    "    theta = params[:k]\n",
    "    phi = params[k:]\n",
    "    return np.dot( transpose(theta), np.matmul(y,X)) - 1 + sum(phi)"
   ]
  },
  {
   "cell_type": "code",
   "execution_count": 15,
   "metadata": {
    "id": "jApfY7eQVRSr"
   },
   "outputs": [],
   "source": [
    "theta = np.array(np.random.uniform(size=k)).reshape(-1, 1)\n",
    "phi = np.array(np.random.uniform(size=N))\n",
    "params = np.append(theta.flatten(), phi.flatten())\n",
    "X_train_scaled = scaler_train.transform(X_train)\n",
    "res = scipy.optimize.minimize(svm_loss, x0=params, args=(X_train_scaled, y_train, 0.8, k), \n",
    "                        method='SLSQP', \n",
    "                        constraints=({'type': 'ineq', 'fun': upper_theta_constraint, 'args': (X_train_scaled, Z_train , 0.8, k)},\n",
    "                                     {'type': 'ineq', 'fun': lower_theta_constraint, 'args': (X_train_scaled, Z_train , 0.8, k)},\n",
    "                                      {'type': 'ineq', 'fun': phi_constraint, 'args': [k]}),\n",
    "                                     {'type': 'ineq', 'fun': phi_constraint2, \n",
    "                                      'args': [k, y_train, scaler_train.transform(X_train)]})"
   ]
  },
  {
   "cell_type": "code",
   "execution_count": 16,
   "metadata": {
    "id": "Xny6zeYU4Qwv"
   },
   "outputs": [],
   "source": [
    "pd.DataFrame(res.x).to_csv('svm_parameters_second_try.csv')"
   ]
  },
  {
   "cell_type": "code",
   "execution_count": 17,
   "metadata": {},
   "outputs": [],
   "source": [
    "import scipy\n",
    "from scipy.optimize import minimize\n",
    "from numpy import linalg as LA\n",
    "\n",
    "k = X_train_scaled.shape[1]\n",
    "N = X_train_scaled.shape[0]\n",
    "\n",
    "params_hat = pd.read_csv('svm_parameters_second_try.csv')\n",
    "theta_hat = params_hat['0'][0:k]"
   ]
  },
  {
   "cell_type": "markdown",
   "metadata": {},
   "source": [
    "Now we evaluate for our evaluation metrics on our test accordingly."
   ]
  },
  {
   "cell_type": "code",
   "execution_count": 18,
   "metadata": {},
   "outputs": [],
   "source": [
    "X_test_scaled = scaler_test.transform(X_test)\n",
    "yhat_test = np.matmul(theta_hat, np.transpose(X_test_scaled))"
   ]
  },
  {
   "cell_type": "markdown",
   "metadata": {},
   "source": [
    "# eval metric 1: Accuracy\n",
    "Now we evaluate for accuracy"
   ]
  },
  {
   "cell_type": "code",
   "execution_count": 19,
   "metadata": {},
   "outputs": [
    {
     "data": {
      "text/plain": [
       "0.45866819747416765"
      ]
     },
     "execution_count": 19,
     "metadata": {},
     "output_type": "execute_result"
    }
   ],
   "source": [
    "len(yhat_test[(yhat_test > 0) & (y_test > 0)])/len(yhat_test)"
   ]
  },
  {
   "cell_type": "markdown",
   "metadata": {},
   "source": [
    "# eval metric 2: Calibration \n",
    "Now we evaluate for calibration"
   ]
  },
  {
   "cell_type": "code",
   "execution_count": 20,
   "metadata": {},
   "outputs": [
    {
     "data": {
      "text/plain": [
       "(0.9727443609022557, 0.9749262536873157)"
      ]
     },
     "execution_count": 20,
     "metadata": {},
     "output_type": "execute_result"
    }
   ],
   "source": [
    "odds_pos = yhat_test[Z_test == 1]\n",
    "odds_neg = yhat_test[Z_test == 0]\n",
    "y_pos = y_test[Z_test == 1]\n",
    "y_neg = y_test[Z_test == 0]\n",
    "\n",
    "calibration_pos = len(odds_pos[((odds_pos > 0) & (y_pos > 0)) |\n",
    "    ((odds_pos <= 0) & (y_pos <= 0))])/len(odds_pos)\n",
    "calibration_neg = len(odds_neg[((odds_neg > 0) & (y_neg > 0)) |\n",
    "    ((odds_neg <= 0) & (y_neg <= 0))])/len(odds_neg)\n",
    "calibration_pos, calibration_neg   "
   ]
  },
  {
   "cell_type": "code",
   "execution_count": null,
   "metadata": {},
   "outputs": [],
   "source": []
  }
 ],
 "metadata": {
  "colab": {
   "provenance": []
  },
  "kernelspec": {
   "display_name": "Python 3 (ipykernel)",
   "language": "python",
   "name": "python3"
  },
  "language_info": {
   "codemirror_mode": {
    "name": "ipython",
    "version": 3
   },
   "file_extension": ".py",
   "mimetype": "text/x-python",
   "name": "python",
   "nbconvert_exporter": "python",
   "pygments_lexer": "ipython3",
   "version": "3.9.12"
  }
 },
 "nbformat": 4,
 "nbformat_minor": 1
}
