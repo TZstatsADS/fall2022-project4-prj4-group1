{
  "nbformat": 4,
  "nbformat_minor": 0,
  "metadata": {
    "colab": {
      "provenance": []
    },
    "kernelspec": {
      "name": "python3",
      "display_name": "Python 3"
    },
    "language_info": {
      "name": "python"
    }
  },
  "cells": [
    {
      "cell_type": "code",
      "source": [
        "import numpy as np\n",
        "from numpy.core.fromnumeric import transpose\n",
        "data = np.array(np.random.uniform(size=50))\n",
        "data = data.reshape(10,5)\n",
        "\n",
        "data[:,-2] = [0,0,0,0,1,1,1,1,0,1]\n",
        "X = data[:,:-2]\n",
        "Z = data[:,-2]\n",
        "y = data[:,-1]"
      ],
      "metadata": {
        "id": "l5E9mwrLHqnZ"
      },
      "execution_count": null,
      "outputs": []
    },
    {
      "cell_type": "code",
      "execution_count": null,
      "metadata": {
        "colab": {
          "base_uri": "https://localhost:8080/"
        },
        "id": "H5sSA1EvFQQT",
        "outputId": "fc472e76-2f42-436c-a764-f46de4b37241"
      },
      "outputs": [
        {
          "output_type": "execute_result",
          "data": {
            "text/plain": [
              "     fun: 9.516707060925333e-07\n",
              "     jac: array([1.93715451e-07, 5.66245177e-07, 5.96047585e-08])\n",
              " message: 'Optimization terminated successfully'\n",
              "    nfev: 89\n",
              "     nit: 22\n",
              "    njev: 22\n",
              "  status: 0\n",
              " success: True\n",
              "       x: array([-25.91275871, -33.18265783, -31.95592722])"
            ]
          },
          "metadata": {},
          "execution_count": 21
        }
      ],
      "source": [
        "#https://docs.scipy.org/doc/scipy/reference/generated/scipy.optimize.minimize.html\n",
        "#https://docs.scipy.org/doc/scipy/reference/generated/scipy.optimize.minimize.html#scipy.optimize.minimize\n",
        "#https://scipy-lectures.org/advanced/mathematical_optimization/auto_examples/plot_non_bounds_constraints.html\n",
        "import scipy\n",
        "from scipy.optimize import minimize\n",
        "from numpy import linalg as LA\n",
        "\n",
        "k=3\n",
        "N = 10\n",
        "def upper_theta_constraint(theta, X, Z, c):\n",
        "  #print('X: ',X.shape)\n",
        "  #print('Z: ',Z.shape)\n",
        "  #print('c: ',c)\n",
        "  #print('theta: ', theta.shape)\n",
        "  #if flag: print('here')\n",
        "  return ((-1/10) * np.matmul(np.matmul(transpose(Z - Z.mean()), X), theta)) + c\n",
        "\n",
        "def lower_theta_constraint(theta, X, Z, c):\n",
        "  #print('X: ',X.shape)\n",
        "  #print('Z: ',Z.shape)\n",
        "  #print('c: ',c)\n",
        "  #print('theta: ', theta.shape)\n",
        "  #if flag: print('here')\n",
        "  return ((1/10) * (np.matmul(np.matmul(transpose(Z - Z.mean()), X), theta))) + c  \n",
        "\n",
        "def logreg_loss(theta,X):\n",
        "  odds = 1/(1 + np.exp(np.matmul(X, theta)))\n",
        "  return (-1) * sum(np.log(odds))\n",
        "\n",
        "scipy.optimize.minimize(logreg_loss, args=(X), x0=theta,\n",
        "                        method='SLSQP', \n",
        "                        constraints=({'type': 'ineq', 'fun': upper_theta_constraint, 'args': (X, Z , 0.8)},\n",
        "                                     {'type': 'ineq', 'fun': lower_theta_constraint, 'args': (X, Z , 0.8)}),\n",
        "                        options={\"maxiter\": 100000})"
      ]
    },
    {
      "cell_type": "code",
      "source": [
        "theta"
      ],
      "metadata": {
        "colab": {
          "base_uri": "https://localhost:8080/"
        },
        "id": "gPUvK8BfPCV2",
        "outputId": "5c7c144d-e036-418f-db71-73399ba52ce2"
      },
      "execution_count": null,
      "outputs": [
        {
          "output_type": "execute_result",
          "data": {
            "text/plain": [
              "array([0.5638269 , 0.69032989, 0.32012041])"
            ]
          },
          "metadata": {},
          "execution_count": 15
        }
      ]
    },
    {
      "cell_type": "code",
      "source": [
        "theta = np.array(np.random.uniform(size=3))\n",
        "odds = 1/(1+np.exp(np.matmul(X, theta)))\n",
        "\n",
        "(-1) * sum(np.log(odds))"
      ],
      "metadata": {
        "colab": {
          "base_uri": "https://localhost:8080/"
        },
        "id": "p24Et4R_M59M",
        "outputId": "294f1820-9f01-4fae-cc96-daf4c2f575e4"
      },
      "execution_count": null,
      "outputs": [
        {
          "output_type": "execute_result",
          "data": {
            "text/plain": [
              "11.589864665351225"
            ]
          },
          "metadata": {},
          "execution_count": 11
        }
      ]
    }
  ]
}