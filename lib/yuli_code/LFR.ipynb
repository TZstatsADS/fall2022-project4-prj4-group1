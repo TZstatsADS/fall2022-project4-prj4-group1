{
 "cells": [
  {
   "cell_type": "code",
   "execution_count": 1,
   "id": "7eb94b1e",
   "metadata": {},
   "outputs": [],
   "source": [
    "import numpy as np"
   ]
  },
  {
   "cell_type": "code",
   "execution_count": null,
   "id": "2ee386f4",
   "metadata": {},
   "outputs": [],
   "source": [
    "# Equation 12\n",
    "def distances(X, v, alpha, N, D, K):\n",
    "    dists = np.zeros((N, K))\n",
    "    for n in range(N):\n",
    "        for i in range(D):\n",
    "            for k in range(K):\n",
    "                dists[n, k] += (X[n, i] - v[k, i]) * (X[n, i] - v[k, i]) * alpha[i]\n",
    "    return dists"
   ]
  },
  {
   "cell_type": "code",
   "execution_count": null,
   "id": "14f9f91b",
   "metadata": {},
   "outputs": [],
   "source": [
    "# Equation 2&3\n",
    "def M_nk(dists, N, K):\n",
    "    M_nk = np.zeros((N, K))\n",
    "    exp = np.zeros((N, K))\n",
    "    denom = np.zeros(N)\n",
    "    for n in range(N):\n",
    "        for j in range(K):\n",
    "            exp[n, j] = np.exp(-1 * dists[n, j])\n",
    "            denom[n] += exp[n, j]\n",
    "        for j in range(K):\n",
    "            if denom[n]:\n",
    "                M_nk[n, j] = exp[n, j] / denom[n]\n",
    "            else:\n",
    "                M_nk[n, j] = exp[n, j] / 1e-6\n",
    "    return M_nk"
   ]
  },
  {
   "cell_type": "code",
   "execution_count": null,
   "id": "581e5ccd",
   "metadata": {},
   "outputs": [],
   "source": [
    "# Equation 6\n",
    "def M_k(M_nk, N, K):\n",
    "    M_k = np.zeros(K)\n",
    "    for j in range(K):\n",
    "        for n in range(N):\n",
    "            M_k[j] += M_nk[n, j]\n",
    "        M_k[j] /= N\n",
    "    return M_k"
   ]
  },
  {
   "cell_type": "code",
   "execution_count": null,
   "id": "4abf96e0",
   "metadata": {},
   "outputs": [],
   "source": [
    "# Equation 8&9\n",
    "def Loss_x(X, M_nk, v, N, D, K):\n",
    "    x_n_hat = np.zeros((N, D))\n",
    "    L_x = 0.0\n",
    "    for n in range(N):\n",
    "        for i in range(D):\n",
    "            for k in range(K):\n",
    "                x_n_hat[n, i] += M_nk[n, k] * v[k, i]\n",
    "            L_x += (X[n, i] - x_n_hat[n, i]) * (X[n, i] - x_n_hat[n, i])\n",
    "    return x_n_hat, L_x"
   ]
  },
  {
   "cell_type": "code",
   "execution_count": null,
   "id": "a0a67989",
   "metadata": {},
   "outputs": [],
   "source": [
    "# Equation 10&11\n",
    "def Loss_y(M_nk, y, w, N, K):\n",
    "    yhat = np.zeros(N)\n",
    "    L_y = 0.0\n",
    "    for n in range(N):\n",
    "        for k in range(K):\n",
    "            yhat[n] += M_nk[n, k] * w[k]\n",
    "        yhat[n] = 1e-6 if yhat[n] <= 0 else yhat[n]\n",
    "        yhat[n] = 0.999 if yhat[n] >= 1 else yhat[n]\n",
    "        L_y += -1 * y[n] * np.log(yhat[n]) - (1.0 - y[n]) * np.log(1.0 - yhat[n])\n",
    "    return yhat, L_y"
   ]
  },
  {
   "cell_type": "code",
   "execution_count": null,
   "id": "ab350964",
   "metadata": {},
   "outputs": [],
   "source": [
    "# Equation 4 (target function)\n",
    "def LFR(params, X_pos, X_neg, y_pos, y_neg, K, A_z, A_x, A_y, results=0):   \n",
    "    #LFR.iters += 1\n",
    "    N_pos, D = X_pos.shape # protected set\n",
    "    N_neg, _ = X_neg.shape # non-protected set\n",
    "\n",
    "    alpha_pos = params[:D]\n",
    "    alpha_neg = params[D: 2 * D]\n",
    "    w = params[2 * D: (2 * D) + K]\n",
    "    v = np.matrix(params[(2 * D) + K:]).reshape((K, D)) # set of prototypes\n",
    "\n",
    "    dists_pos = distances(X_pos, v, alpha_pos, N_pos, D, K)\n",
    "    dists_neg = distances(X_neg, v, alpha_neg, N_neg, D, K)\n",
    "\n",
    "    M_nk_pos = M_nk(dists_pos, N_pos, K)\n",
    "    M_nk_neg = M_nk(dists_neg, N_neg, K)\n",
    "\n",
    "    M_k_pos = M_k(M_nk_pos, N_pos, K)\n",
    "    M_k_neg = M_k(M_nk_neg, N_neg, K)\n",
    "\n",
    "    L_z = 0.0\n",
    "    for k in range(K):\n",
    "        L_z += abs(M_k_pos[k] - M_k_neg[k]) # Equation 7\n",
    "\n",
    "    x_n_hat_pos, L_x_pos = Loss_x(X_pos, M_nk_pos, v, N_pos, D, K)\n",
    "    x_n_hat_neg, L_x_neg = Loss_x(X_neg, M_nk_neg, v, N_neg, D, K)\n",
    "    L_x = L_x_pos + L_x_neg\n",
    "\n",
    "    yhat_pos, L_y_pos = Loss_y(M_nk_pos, y_pos, w, N_pos, K)\n",
    "    yhat_neg, L_y_neg = Loss_y(M_nk_neg, y_neg, w, N_neg, K)\n",
    "    L_y = L_y_pos + L_y_neg\n",
    "\n",
    "    criterion = A_x * L_x + A_y * L_y + A_z * L_z\n",
    "\n",
    "    #if LFR.iters % 250 == 0:\n",
    "    #    print(LFR.iters, criterion)\n",
    "    if results != 0:\n",
    "        return yhat_pos, yhat_neg, M_nk_pos, M_nk_neg\n",
    "    else:\n",
    "        return criterion"
   ]
  }
 ],
 "metadata": {
  "kernelspec": {
   "display_name": "Python 3 (ipykernel)",
   "language": "python",
   "name": "python3"
  },
  "language_info": {
   "codemirror_mode": {
    "name": "ipython",
    "version": 3
   },
   "file_extension": ".py",
   "mimetype": "text/x-python",
   "name": "python",
   "nbconvert_exporter": "python",
   "pygments_lexer": "ipython3",
   "version": "3.9.7"
  }
 },
 "nbformat": 4,
 "nbformat_minor": 5
}
